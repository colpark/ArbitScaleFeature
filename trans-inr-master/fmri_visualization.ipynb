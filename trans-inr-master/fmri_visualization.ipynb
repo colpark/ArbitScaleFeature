{
 "cells": [
  {
   "cell_type": "code",
   "execution_count": 1,
   "id": "9ed6175e-a0e5-42bc-a422-91a75a8c50c9",
   "metadata": {},
   "outputs": [
    {
     "name": "stdout",
     "output_type": "stream",
     "text": [
      "Libraries imported successfully.\n"
     ]
    }
   ],
   "source": [
    "import os\n",
    "from glob import glob\n",
    "\n",
    "# Install necessary libraries if you don't have them\n",
    "# !pip install torch ipywidgets matplotlib\n",
    "import ipywidgets as widgets\n",
    "from ipywidgets import interact_manual\n",
    "import matplotlib.pyplot as plt\n",
    "import numpy as np\n",
    "import torch\n",
    "\n",
    "from datasets.fmri_dataloader import DataModule\n",
    "\n",
    "# Ensure plots are displayed inline in Jupyter\n",
    "%matplotlib inline\n",
    "print(\"Libraries imported successfully.\")"
   ]
  },
  {
   "cell_type": "markdown",
   "id": "53ac7248-c650-49c5-8d53-49d9f25d1a9b",
   "metadata": {},
   "source": [
    "# Helper function to visualize fMRI data"
   ]
  },
  {
   "cell_type": "code",
   "execution_count": 2,
   "id": "51333c6e-0394-4dde-8a01-a1438099508f",
   "metadata": {},
   "outputs": [],
   "source": [
    "def visualize_tensor_slice(data, b, w, t, cmap='viridis', with_background_mask=False):\n",
    "    \"\"\"\n",
    "    Visualizes a 2D slice (D, W) of the 5D tensor at a specific\n",
    "    batch (b), width (w), and time step (t).\n",
    "\n",
    "    Args:\n",
    "        data (torch.Tensor or np.ndarray): The 5D tensor (B, D, H, W, T).\n",
    "        b (int): Batch index.\n",
    "        w (int): Width index.\n",
    "        t (int): Time step index.\n",
    "    \"\"\"\n",
    "    # Check if data is a torch tensor and convert to numpy if necessary\n",
    "    if isinstance(data, torch.Tensor):\n",
    "        # Ensure tensor is on CPU before converting to numpy\n",
    "        if data.device != torch.device('cpu'):\n",
    "             plot_data = data.cpu().numpy()\n",
    "             print(\"Tensor moved from GPU to CPU for plotting.\")\n",
    "        else:\n",
    "             plot_data = data.numpy()\n",
    "    elif isinstance(data, np.ndarray):\n",
    "        plot_data = data\n",
    "        \n",
    "    # Validate indices\n",
    "    shape = plot_data.shape\n",
    "    # Select the 2D slice (D, H)\n",
    "    try:\n",
    "        slice_dh = plot_data[b, :, :, w, t]\n",
    "    except IndexError as e:\n",
    "         print(f\"Error slicing data with indices b={b}, w={w}, t={t}: {e}\")\n",
    "         return\n",
    "\n",
    "    # --- Plotting ---\n",
    "    if not with_background_mask:\n",
    "        fig, ax = plt.subplots(figsize=(7, 6)) # Adjust figure size as needed\n",
    "    \n",
    "        # Use imshow to display the 2D slice\n",
    "        im = ax.imshow(slice_dh, cmap=cmap, origin='lower', interpolation='nearest',\n",
    "                      vmin=plot_data.min((1,2,3,4))[b], vmax=plot_data.max((1,2,3,4))[b])\n",
    "    \n",
    "        # Add titles and labels\n",
    "        ax.set_title(f'Spatial Slice (D x H)\\nBatch={b}, Width={w}, Time={t}')\n",
    "        ax.set_xlabel(f'Depth (x-axis, Size: {shape[1]})')\n",
    "        ax.set_ylabel(f'Height (y-axis, Size: {shape[2]})')\n",
    "    \n",
    "        # Add a colorbar to indicate values\n",
    "        cbar = fig.colorbar(im, ax=ax)\n",
    "        cbar.set_label('Tensor Value')\n",
    "    else:\n",
    "        fig, axes = plt.subplots(ncols=2, figsize=(12, 6)) # Adjust figure size as needed\n",
    "\n",
    "        ax = axes[0]\n",
    "        # Use imshow to display the 2D slice\n",
    "        im = ax.imshow(slice_dh, cmap=cmap, origin='lower', interpolation='nearest',\n",
    "                      vmin=plot_data.min((1,2,3,4))[b], vmax=plot_data.max((1,2,3,4))[b])\n",
    "    \n",
    "        # Add titles and labels\n",
    "        ax.set_title(f'Spatial Slice (D x H)\\nBatch={b}, Width={w}, Time={t}')\n",
    "        ax.set_xlabel(f'Depth (x-axis, Size: {shape[1]})')\n",
    "        ax.set_ylabel(f'Height (y-axis, Size: {shape[2]})')\n",
    "    \n",
    "        # Add a colorbar to indicate values\n",
    "        cbar = fig.colorbar(im, ax=ax)\n",
    "        cbar.set_label('Tensor Value')\n",
    "\n",
    "        # draw brain/background plot\n",
    "        values, counts = np.unique(slice_dh, return_counts=True)\n",
    "        background_value = values[np.argmax(counts)]\n",
    "        mask_ax = axes[-1]\n",
    "        mask_slice = (slice_dh==background_value)\n",
    "        im2 = mask_ax.imshow(mask_slice, cmap=cmap, origin='lower', interpolation='nearest',\n",
    "                             vmin=mask_slice.min(), vmax=mask_slice.max())\n",
    "        # Add titles and labels\n",
    "        mask_ax.set_title(f'Brain & Background (value={background_value:.2f})')\n",
    "        mask_ax.set_xlabel(f'Depth (x-axis, Size: {shape[1]})')\n",
    "        mask_ax.set_ylabel(f'Height (y-axis, Size: {shape[2]})')\n",
    "\n",
    "    # Show the plot\n",
    "    plt.tight_layout() # Adjust layout to prevent overlapping labels\n",
    "    plt.show()"
   ]
  },
  {
   "cell_type": "code",
   "execution_count": 3,
   "id": "eaf96b12-d9dd-49a2-a3f3-29492f46b50e",
   "metadata": {},
   "outputs": [],
   "source": [
    "def create_interactive_plot(tensor_data, cmap='viridis', with_background_mask=False):\n",
    "    B, D, H, W, T = tensor_data.shape\n",
    "    b_slider = widgets.IntSlider(min=0, max=max(0, B-1), step=1, value=0, description='Batch (B):')\n",
    "    w_slider = widgets.IntSlider(min=0, max=max(0, W-1), step=1, value=0, description='Width (H):')\n",
    "    t_slider = widgets.IntSlider(min=0, max=max(0, T-1), step=1, value=0, description='Time (T):')\n",
    "\n",
    "    # Use interact_manual to create controls and a button to trigger the visualization\n",
    "    # Pass the tensor data as a fixed argument\n",
    "    interactive_plot = interact_manual(\n",
    "        lambda b, w, t: visualize_tensor_slice(tensor_data, b, w, t, cmap, with_background_mask),\n",
    "        b=b_slider,\n",
    "        w=w_slider,\n",
    "        t=t_slider\n",
    "    )\n",
    "    return interactive_plot"
   ]
  },
  {
   "cell_type": "markdown",
   "id": "2f9951ab-97fe-40a5-813e-cd1a835d50bf",
   "metadata": {},
   "source": [
    "# Load fMRI data and visualize"
   ]
  },
  {
   "cell_type": "code",
   "execution_count": 4,
   "id": "272e72b1-b591-4fe9-b79c-90729d4ed683",
   "metadata": {},
   "outputs": [],
   "source": [
    "data_module = DataModule('./cfgs/hcp_data_all_config.yaml')"
   ]
  },
  {
   "cell_type": "code",
   "execution_count": 5,
   "id": "f4028749-0b16-48b7-babd-ce1cd2aa761d",
   "metadata": {},
   "outputs": [
    {
     "name": "stdout",
     "output_type": "stream",
     "text": [
      "Loading cached subject dictionary from data/subj_dict/S1200_age_HCP_filtered_run1_MNI_to_TRs.pickle\n",
      "Loading splits from ./data/splits/S1200_split2.pkl\n",
      "Randomly sampling 400 of 863 subjects.\n",
      "Generating dataset list from scratch...\n",
      "Number of subjects for S1200 'train': 400\n",
      "Randomly sampling 50 of 107 subjects.\n",
      "Loading cached dataset list from data/data_tuple/age_HCP_filtered_run1_MNI_to_TRs_val_seqlen2_within1_between1.0.csv\n",
      "Cache is stale (subject mismatch). Regenerating...\n",
      "Generating dataset list from scratch...\n",
      "Number of subjects for S1200 'val': 50\n",
      "Randomly sampling 50 of 109 subjects.\n",
      "Loading cached dataset list from data/data_tuple/age_HCP_filtered_run1_MNI_to_TRs_test_seqlen2_within1_between1.0.csv\n",
      "Cache is stale (subject mismatch). Regenerating...\n",
      "Generating dataset list from scratch...\n",
      "Number of subjects for S1200 'test': 50\n",
      "\n",
      "Total training segments: 4800\n",
      "Total validation segments: 600\n",
      "Total test segments: 600\n"
     ]
    }
   ],
   "source": [
    "data_module.setup()\n",
    "train_loader = data_module.train_dataloader()\n",
    "test_loader = data_module.val_dataloader()"
   ]
  },
  {
   "cell_type": "code",
   "execution_count": 6,
   "id": "0d241fe0-338a-4fa9-99b1-c4895148bd54",
   "metadata": {},
   "outputs": [
    {
     "name": "stderr",
     "output_type": "stream",
     "text": [
      "/pscratch/sd/t/tbalasoo/MAMBAINR/trans-inr-master/datasets/fmri_datasets.py:67: FutureWarning: You are using `torch.load` with `weights_only=False` (the current default value), which uses the default pickle module implicitly. It is possible to construct malicious pickle data which will execute arbitrary code during unpickling (See https://github.com/pytorch/pytorch/blob/main/SECURITY.md#untrusted-models for more details). In a future release, the default value for `weights_only` will be flipped to `True`. This limits the functions that could be executed during unpickling. Arbitrary objects will no longer be allowed to be loaded via this mode unless they are explicitly allowlisted by the user via `torch.serialization.add_safe_globals`. We recommend you start setting `weights_only=True` for any use case where you don't have full control of the loaded file. Please open an issue on GitHub for any issues related to this experimental feature.\n",
      "  loaded_frames = [torch.load(os.path.join(subject_path, fname)).unsqueeze(0) for fname in fnames]\n",
      "/pscratch/sd/t/tbalasoo/MAMBAINR/trans-inr-master/datasets/fmri_datasets.py:67: FutureWarning: You are using `torch.load` with `weights_only=False` (the current default value), which uses the default pickle module implicitly. It is possible to construct malicious pickle data which will execute arbitrary code during unpickling (See https://github.com/pytorch/pytorch/blob/main/SECURITY.md#untrusted-models for more details). In a future release, the default value for `weights_only` will be flipped to `True`. This limits the functions that could be executed during unpickling. Arbitrary objects will no longer be allowed to be loaded via this mode unless they are explicitly allowlisted by the user via `torch.serialization.add_safe_globals`. We recommend you start setting `weights_only=True` for any use case where you don't have full control of the loaded file. Please open an issue on GitHub for any issues related to this experimental feature.\n",
      "  loaded_frames = [torch.load(os.path.join(subject_path, fname)).unsqueeze(0) for fname in fnames]\n",
      "/pscratch/sd/t/tbalasoo/MAMBAINR/trans-inr-master/datasets/fmri_datasets.py:67: FutureWarning: You are using `torch.load` with `weights_only=False` (the current default value), which uses the default pickle module implicitly. It is possible to construct malicious pickle data which will execute arbitrary code during unpickling (See https://github.com/pytorch/pytorch/blob/main/SECURITY.md#untrusted-models for more details). In a future release, the default value for `weights_only` will be flipped to `True`. This limits the functions that could be executed during unpickling. Arbitrary objects will no longer be allowed to be loaded via this mode unless they are explicitly allowlisted by the user via `torch.serialization.add_safe_globals`. We recommend you start setting `weights_only=True` for any use case where you don't have full control of the loaded file. Please open an issue on GitHub for any issues related to this experimental feature.\n",
      "  loaded_frames = [torch.load(os.path.join(subject_path, fname)).unsqueeze(0) for fname in fnames]\n",
      "/pscratch/sd/t/tbalasoo/MAMBAINR/trans-inr-master/datasets/fmri_datasets.py:67: FutureWarning: You are using `torch.load` with `weights_only=False` (the current default value), which uses the default pickle module implicitly. It is possible to construct malicious pickle data which will execute arbitrary code during unpickling (See https://github.com/pytorch/pytorch/blob/main/SECURITY.md#untrusted-models for more details). In a future release, the default value for `weights_only` will be flipped to `True`. This limits the functions that could be executed during unpickling. Arbitrary objects will no longer be allowed to be loaded via this mode unless they are explicitly allowlisted by the user via `torch.serialization.add_safe_globals`. We recommend you start setting `weights_only=True` for any use case where you don't have full control of the loaded file. Please open an issue on GitHub for any issues related to this experimental feature.\n",
      "  loaded_frames = [torch.load(os.path.join(subject_path, fname)).unsqueeze(0) for fname in fnames]\n",
      "/pscratch/sd/t/tbalasoo/MAMBAINR/trans-inr-master/datasets/fmri_datasets.py:67: FutureWarning: You are using `torch.load` with `weights_only=False` (the current default value), which uses the default pickle module implicitly. It is possible to construct malicious pickle data which will execute arbitrary code during unpickling (See https://github.com/pytorch/pytorch/blob/main/SECURITY.md#untrusted-models for more details). In a future release, the default value for `weights_only` will be flipped to `True`. This limits the functions that could be executed during unpickling. Arbitrary objects will no longer be allowed to be loaded via this mode unless they are explicitly allowlisted by the user via `torch.serialization.add_safe_globals`. We recommend you start setting `weights_only=True` for any use case where you don't have full control of the loaded file. Please open an issue on GitHub for any issues related to this experimental feature.\n",
      "  loaded_frames = [torch.load(os.path.join(subject_path, fname)).unsqueeze(0) for fname in fnames]\n",
      "/pscratch/sd/t/tbalasoo/MAMBAINR/trans-inr-master/datasets/fmri_datasets.py:67: FutureWarning: You are using `torch.load` with `weights_only=False` (the current default value), which uses the default pickle module implicitly. It is possible to construct malicious pickle data which will execute arbitrary code during unpickling (See https://github.com/pytorch/pytorch/blob/main/SECURITY.md#untrusted-models for more details). In a future release, the default value for `weights_only` will be flipped to `True`. This limits the functions that could be executed during unpickling. Arbitrary objects will no longer be allowed to be loaded via this mode unless they are explicitly allowlisted by the user via `torch.serialization.add_safe_globals`. We recommend you start setting `weights_only=True` for any use case where you don't have full control of the loaded file. Please open an issue on GitHub for any issues related to this experimental feature.\n",
      "  loaded_frames = [torch.load(os.path.join(subject_path, fname)).unsqueeze(0) for fname in fnames]\n",
      "/pscratch/sd/t/tbalasoo/MAMBAINR/trans-inr-master/datasets/fmri_datasets.py:67: FutureWarning: You are using `torch.load` with `weights_only=False` (the current default value), which uses the default pickle module implicitly. It is possible to construct malicious pickle data which will execute arbitrary code during unpickling (See https://github.com/pytorch/pytorch/blob/main/SECURITY.md#untrusted-models for more details). In a future release, the default value for `weights_only` will be flipped to `True`. This limits the functions that could be executed during unpickling. Arbitrary objects will no longer be allowed to be loaded via this mode unless they are explicitly allowlisted by the user via `torch.serialization.add_safe_globals`. We recommend you start setting `weights_only=True` for any use case where you don't have full control of the loaded file. Please open an issue on GitHub for any issues related to this experimental feature.\n",
      "  loaded_frames = [torch.load(os.path.join(subject_path, fname)).unsqueeze(0) for fname in fnames]\n",
      "/pscratch/sd/t/tbalasoo/MAMBAINR/trans-inr-master/datasets/fmri_datasets.py:67: FutureWarning: You are using `torch.load` with `weights_only=False` (the current default value), which uses the default pickle module implicitly. It is possible to construct malicious pickle data which will execute arbitrary code during unpickling (See https://github.com/pytorch/pytorch/blob/main/SECURITY.md#untrusted-models for more details). In a future release, the default value for `weights_only` will be flipped to `True`. This limits the functions that could be executed during unpickling. Arbitrary objects will no longer be allowed to be loaded via this mode unless they are explicitly allowlisted by the user via `torch.serialization.add_safe_globals`. We recommend you start setting `weights_only=True` for any use case where you don't have full control of the loaded file. Please open an issue on GitHub for any issues related to this experimental feature.\n",
      "  loaded_frames = [torch.load(os.path.join(subject_path, fname)).unsqueeze(0) for fname in fnames]\n",
      "/pscratch/sd/t/tbalasoo/MAMBAINR/trans-inr-master/datasets/fmri_datasets.py:67: FutureWarning: You are using `torch.load` with `weights_only=False` (the current default value), which uses the default pickle module implicitly. It is possible to construct malicious pickle data which will execute arbitrary code during unpickling (See https://github.com/pytorch/pytorch/blob/main/SECURITY.md#untrusted-models for more details). In a future release, the default value for `weights_only` will be flipped to `True`. This limits the functions that could be executed during unpickling. Arbitrary objects will no longer be allowed to be loaded via this mode unless they are explicitly allowlisted by the user via `torch.serialization.add_safe_globals`. We recommend you start setting `weights_only=True` for any use case where you don't have full control of the loaded file. Please open an issue on GitHub for any issues related to this experimental feature.\n",
      "  loaded_frames = [torch.load(os.path.join(subject_path, fname)).unsqueeze(0) for fname in fnames]\n",
      "/pscratch/sd/t/tbalasoo/MAMBAINR/trans-inr-master/datasets/fmri_datasets.py:67: FutureWarning: You are using `torch.load` with `weights_only=False` (the current default value), which uses the default pickle module implicitly. It is possible to construct malicious pickle data which will execute arbitrary code during unpickling (See https://github.com/pytorch/pytorch/blob/main/SECURITY.md#untrusted-models for more details). In a future release, the default value for `weights_only` will be flipped to `True`. This limits the functions that could be executed during unpickling. Arbitrary objects will no longer be allowed to be loaded via this mode unless they are explicitly allowlisted by the user via `torch.serialization.add_safe_globals`. We recommend you start setting `weights_only=True` for any use case where you don't have full control of the loaded file. Please open an issue on GitHub for any issues related to this experimental feature.\n",
      "  loaded_frames = [torch.load(os.path.join(subject_path, fname)).unsqueeze(0) for fname in fnames]\n",
      "/pscratch/sd/t/tbalasoo/MAMBAINR/trans-inr-master/datasets/fmri_datasets.py:67: FutureWarning: You are using `torch.load` with `weights_only=False` (the current default value), which uses the default pickle module implicitly. It is possible to construct malicious pickle data which will execute arbitrary code during unpickling (See https://github.com/pytorch/pytorch/blob/main/SECURITY.md#untrusted-models for more details). In a future release, the default value for `weights_only` will be flipped to `True`. This limits the functions that could be executed during unpickling. Arbitrary objects will no longer be allowed to be loaded via this mode unless they are explicitly allowlisted by the user via `torch.serialization.add_safe_globals`. We recommend you start setting `weights_only=True` for any use case where you don't have full control of the loaded file. Please open an issue on GitHub for any issues related to this experimental feature.\n",
      "  loaded_frames = [torch.load(os.path.join(subject_path, fname)).unsqueeze(0) for fname in fnames]\n",
      "/pscratch/sd/t/tbalasoo/MAMBAINR/trans-inr-master/datasets/fmri_datasets.py:67: FutureWarning: You are using `torch.load` with `weights_only=False` (the current default value), which uses the default pickle module implicitly. It is possible to construct malicious pickle data which will execute arbitrary code during unpickling (See https://github.com/pytorch/pytorch/blob/main/SECURITY.md#untrusted-models for more details). In a future release, the default value for `weights_only` will be flipped to `True`. This limits the functions that could be executed during unpickling. Arbitrary objects will no longer be allowed to be loaded via this mode unless they are explicitly allowlisted by the user via `torch.serialization.add_safe_globals`. We recommend you start setting `weights_only=True` for any use case where you don't have full control of the loaded file. Please open an issue on GitHub for any issues related to this experimental feature.\n",
      "  loaded_frames = [torch.load(os.path.join(subject_path, fname)).unsqueeze(0) for fname in fnames]\n",
      "/pscratch/sd/t/tbalasoo/MAMBAINR/trans-inr-master/datasets/fmri_datasets.py:67: FutureWarning: You are using `torch.load` with `weights_only=False` (the current default value), which uses the default pickle module implicitly. It is possible to construct malicious pickle data which will execute arbitrary code during unpickling (See https://github.com/pytorch/pytorch/blob/main/SECURITY.md#untrusted-models for more details). In a future release, the default value for `weights_only` will be flipped to `True`. This limits the functions that could be executed during unpickling. Arbitrary objects will no longer be allowed to be loaded via this mode unless they are explicitly allowlisted by the user via `torch.serialization.add_safe_globals`. We recommend you start setting `weights_only=True` for any use case where you don't have full control of the loaded file. Please open an issue on GitHub for any issues related to this experimental feature.\n",
      "  loaded_frames = [torch.load(os.path.join(subject_path, fname)).unsqueeze(0) for fname in fnames]\n",
      "/pscratch/sd/t/tbalasoo/MAMBAINR/trans-inr-master/datasets/fmri_datasets.py:67: FutureWarning: You are using `torch.load` with `weights_only=False` (the current default value), which uses the default pickle module implicitly. It is possible to construct malicious pickle data which will execute arbitrary code during unpickling (See https://github.com/pytorch/pytorch/blob/main/SECURITY.md#untrusted-models for more details). In a future release, the default value for `weights_only` will be flipped to `True`. This limits the functions that could be executed during unpickling. Arbitrary objects will no longer be allowed to be loaded via this mode unless they are explicitly allowlisted by the user via `torch.serialization.add_safe_globals`. We recommend you start setting `weights_only=True` for any use case where you don't have full control of the loaded file. Please open an issue on GitHub for any issues related to this experimental feature.\n",
      "  loaded_frames = [torch.load(os.path.join(subject_path, fname)).unsqueeze(0) for fname in fnames]\n",
      "/pscratch/sd/t/tbalasoo/MAMBAINR/trans-inr-master/datasets/fmri_datasets.py:67: FutureWarning: You are using `torch.load` with `weights_only=False` (the current default value), which uses the default pickle module implicitly. It is possible to construct malicious pickle data which will execute arbitrary code during unpickling (See https://github.com/pytorch/pytorch/blob/main/SECURITY.md#untrusted-models for more details). In a future release, the default value for `weights_only` will be flipped to `True`. This limits the functions that could be executed during unpickling. Arbitrary objects will no longer be allowed to be loaded via this mode unless they are explicitly allowlisted by the user via `torch.serialization.add_safe_globals`. We recommend you start setting `weights_only=True` for any use case where you don't have full control of the loaded file. Please open an issue on GitHub for any issues related to this experimental feature.\n",
      "  loaded_frames = [torch.load(os.path.join(subject_path, fname)).unsqueeze(0) for fname in fnames]\n",
      "/pscratch/sd/t/tbalasoo/MAMBAINR/trans-inr-master/datasets/fmri_datasets.py:67: FutureWarning: You are using `torch.load` with `weights_only=False` (the current default value), which uses the default pickle module implicitly. It is possible to construct malicious pickle data which will execute arbitrary code during unpickling (See https://github.com/pytorch/pytorch/blob/main/SECURITY.md#untrusted-models for more details). In a future release, the default value for `weights_only` will be flipped to `True`. This limits the functions that could be executed during unpickling. Arbitrary objects will no longer be allowed to be loaded via this mode unless they are explicitly allowlisted by the user via `torch.serialization.add_safe_globals`. We recommend you start setting `weights_only=True` for any use case where you don't have full control of the loaded file. Please open an issue on GitHub for any issues related to this experimental feature.\n",
      "  loaded_frames = [torch.load(os.path.join(subject_path, fname)).unsqueeze(0) for fname in fnames]\n",
      "/pscratch/sd/t/tbalasoo/MAMBAINR/trans-inr-master/datasets/fmri_datasets.py:42: FutureWarning: You are using `torch.load` with `weights_only=False` (the current default value), which uses the default pickle module implicitly. It is possible to construct malicious pickle data which will execute arbitrary code during unpickling (See https://github.com/pytorch/pytorch/blob/main/SECURITY.md#untrusted-models for more details). In a future release, the default value for `weights_only` will be flipped to `True`. This limits the functions that could be executed during unpickling. Arbitrary objects will no longer be allowed to be loaded via this mode unless they are explicitly allowlisted by the user via `torch.serialization.add_safe_globals`. We recommend you start setting `weights_only=True` for any use case where you don't have full control of the loaded file. Please open an issue on GitHub for any issues related to this experimental feature.\n",
      "  stats_dict = torch.load(stats_path)\n",
      "/pscratch/sd/t/tbalasoo/MAMBAINR/trans-inr-master/datasets/fmri_datasets.py:42: FutureWarning: You are using `torch.load` with `weights_only=False` (the current default value), which uses the default pickle module implicitly. It is possible to construct malicious pickle data which will execute arbitrary code during unpickling (See https://github.com/pytorch/pytorch/blob/main/SECURITY.md#untrusted-models for more details). In a future release, the default value for `weights_only` will be flipped to `True`. This limits the functions that could be executed during unpickling. Arbitrary objects will no longer be allowed to be loaded via this mode unless they are explicitly allowlisted by the user via `torch.serialization.add_safe_globals`. We recommend you start setting `weights_only=True` for any use case where you don't have full control of the loaded file. Please open an issue on GitHub for any issues related to this experimental feature.\n",
      "  stats_dict = torch.load(stats_path)\n",
      "/pscratch/sd/t/tbalasoo/MAMBAINR/trans-inr-master/datasets/fmri_datasets.py:42: FutureWarning: You are using `torch.load` with `weights_only=False` (the current default value), which uses the default pickle module implicitly. It is possible to construct malicious pickle data which will execute arbitrary code during unpickling (See https://github.com/pytorch/pytorch/blob/main/SECURITY.md#untrusted-models for more details). In a future release, the default value for `weights_only` will be flipped to `True`. This limits the functions that could be executed during unpickling. Arbitrary objects will no longer be allowed to be loaded via this mode unless they are explicitly allowlisted by the user via `torch.serialization.add_safe_globals`. We recommend you start setting `weights_only=True` for any use case where you don't have full control of the loaded file. Please open an issue on GitHub for any issues related to this experimental feature.\n",
      "  stats_dict = torch.load(stats_path)\n",
      "/pscratch/sd/t/tbalasoo/MAMBAINR/trans-inr-master/datasets/fmri_datasets.py:42: FutureWarning: You are using `torch.load` with `weights_only=False` (the current default value), which uses the default pickle module implicitly. It is possible to construct malicious pickle data which will execute arbitrary code during unpickling (See https://github.com/pytorch/pytorch/blob/main/SECURITY.md#untrusted-models for more details). In a future release, the default value for `weights_only` will be flipped to `True`. This limits the functions that could be executed during unpickling. Arbitrary objects will no longer be allowed to be loaded via this mode unless they are explicitly allowlisted by the user via `torch.serialization.add_safe_globals`. We recommend you start setting `weights_only=True` for any use case where you don't have full control of the loaded file. Please open an issue on GitHub for any issues related to this experimental feature.\n",
      "  stats_dict = torch.load(stats_path)\n",
      "/pscratch/sd/t/tbalasoo/MAMBAINR/trans-inr-master/datasets/fmri_datasets.py:42: FutureWarning: You are using `torch.load` with `weights_only=False` (the current default value), which uses the default pickle module implicitly. It is possible to construct malicious pickle data which will execute arbitrary code during unpickling (See https://github.com/pytorch/pytorch/blob/main/SECURITY.md#untrusted-models for more details). In a future release, the default value for `weights_only` will be flipped to `True`. This limits the functions that could be executed during unpickling. Arbitrary objects will no longer be allowed to be loaded via this mode unless they are explicitly allowlisted by the user via `torch.serialization.add_safe_globals`. We recommend you start setting `weights_only=True` for any use case where you don't have full control of the loaded file. Please open an issue on GitHub for any issues related to this experimental feature.\n",
      "  stats_dict = torch.load(stats_path)\n",
      "/pscratch/sd/t/tbalasoo/MAMBAINR/trans-inr-master/datasets/fmri_datasets.py:42: FutureWarning: You are using `torch.load` with `weights_only=False` (the current default value), which uses the default pickle module implicitly. It is possible to construct malicious pickle data which will execute arbitrary code during unpickling (See https://github.com/pytorch/pytorch/blob/main/SECURITY.md#untrusted-models for more details). In a future release, the default value for `weights_only` will be flipped to `True`. This limits the functions that could be executed during unpickling. Arbitrary objects will no longer be allowed to be loaded via this mode unless they are explicitly allowlisted by the user via `torch.serialization.add_safe_globals`. We recommend you start setting `weights_only=True` for any use case where you don't have full control of the loaded file. Please open an issue on GitHub for any issues related to this experimental feature.\n",
      "  stats_dict = torch.load(stats_path)\n",
      "/pscratch/sd/t/tbalasoo/MAMBAINR/trans-inr-master/datasets/fmri_datasets.py:42: FutureWarning: You are using `torch.load` with `weights_only=False` (the current default value), which uses the default pickle module implicitly. It is possible to construct malicious pickle data which will execute arbitrary code during unpickling (See https://github.com/pytorch/pytorch/blob/main/SECURITY.md#untrusted-models for more details). In a future release, the default value for `weights_only` will be flipped to `True`. This limits the functions that could be executed during unpickling. Arbitrary objects will no longer be allowed to be loaded via this mode unless they are explicitly allowlisted by the user via `torch.serialization.add_safe_globals`. We recommend you start setting `weights_only=True` for any use case where you don't have full control of the loaded file. Please open an issue on GitHub for any issues related to this experimental feature.\n",
      "  stats_dict = torch.load(stats_path)\n",
      "/pscratch/sd/t/tbalasoo/MAMBAINR/trans-inr-master/datasets/fmri_datasets.py:42: FutureWarning: You are using `torch.load` with `weights_only=False` (the current default value), which uses the default pickle module implicitly. It is possible to construct malicious pickle data which will execute arbitrary code during unpickling (See https://github.com/pytorch/pytorch/blob/main/SECURITY.md#untrusted-models for more details). In a future release, the default value for `weights_only` will be flipped to `True`. This limits the functions that could be executed during unpickling. Arbitrary objects will no longer be allowed to be loaded via this mode unless they are explicitly allowlisted by the user via `torch.serialization.add_safe_globals`. We recommend you start setting `weights_only=True` for any use case where you don't have full control of the loaded file. Please open an issue on GitHub for any issues related to this experimental feature.\n",
      "  stats_dict = torch.load(stats_path)\n"
     ]
    }
   ],
   "source": [
    "for batch in test_loader:\n",
    "    fmri, subj, target_value, tr, sex = batch.values()\n",
    "    break"
   ]
  },
  {
   "cell_type": "code",
   "execution_count": 7,
   "id": "0a5a2bb8-7c8c-4a21-a72b-919a98950210",
   "metadata": {},
   "outputs": [
    {
     "name": "stdout",
     "output_type": "stream",
     "text": [
      "torch.Size([8, 1, 96, 96, 96, 2])\n",
      "['545345', '545345', '545345', '545345', '545345', '545345', '545345', '545345']\n",
      "tensor([ 0,  2,  4,  6,  8, 10, 12, 14])\n"
     ]
    }
   ],
   "source": [
    "print(fmri.shape)\n",
    "print(subj)\n",
    "print(tr)"
   ]
  },
  {
   "cell_type": "code",
   "execution_count": 8,
   "id": "1b54e98b-adf1-4fd3-a45e-8c456ec7e0cc",
   "metadata": {},
   "outputs": [
    {
     "data": {
      "text/plain": [
       "torch.Size([1, 96, 96, 96, 2])"
      ]
     },
     "execution_count": 8,
     "metadata": {},
     "output_type": "execute_result"
    }
   ],
   "source": [
    "example_data = fmri[0,...]\n",
    "example_data.shape"
   ]
  },
  {
   "cell_type": "code",
   "execution_count": 11,
   "id": "12c00b53-9f12-4eb9-b4f0-9ad603333432",
   "metadata": {},
   "outputs": [
    {
     "data": {
      "application/vnd.jupyter.widget-view+json": {
       "model_id": "f72107c4139e4d8aa09b6516cafe6d36",
       "version_major": 2,
       "version_minor": 0
      },
      "text/plain": [
       "interactive(children=(IntSlider(value=0, description='Batch (B):', max=0), IntSlider(value=0, description='Wid…"
      ]
     },
     "metadata": {},
     "output_type": "display_data"
    },
    {
     "data": {
      "text/plain": [
       "<function __main__.create_interactive_plot.<locals>.<lambda>(b, w, t)>"
      ]
     },
     "execution_count": 11,
     "metadata": {},
     "output_type": "execute_result"
    }
   ],
   "source": [
    "create_interactive_plot(example_data, cmap='gray')"
   ]
  },
  {
   "cell_type": "markdown",
   "id": "83c494d9-566a-4d18-9ab6-108e47df815e",
   "metadata": {},
   "source": [
    "# View the histogram"
   ]
  },
  {
   "cell_type": "code",
   "execution_count": 10,
   "id": "9f17d0a7-d005-4748-ac7c-1dd6f920dc35",
   "metadata": {},
   "outputs": [
    {
     "data": {
      "image/png": "[encoded data removed]",
      "text/plain": [
       "<Figure size 640x480 with 1 Axes>"
      ]
     },
     "metadata": {},
     "output_type": "display_data"
    }
   ],
   "source": [
    "# Extract the data and flatten it\n",
    "data = example_data.flatten()\n",
    "\n",
    "# Plot the histogram\n",
    "plt.hist(data, bins=30)  # Adjust bins as needed\n",
    "plt.title('Histogram of HCP resting state fmri Data')\n",
    "plt.xlabel('Voxel Value')\n",
    "plt.ylabel('Frequency')\n",
    "plt.show()"
   ]
  }
 ],
 "metadata": {
  "kernelspec": {
   "display_name": "“mambaenv”",
   "language": "python",
   "name": "mambaenv"
  },
  "language_info": {
   "codemirror_mode": {
    "name": "ipython",
    "version": 3
   },
   "file_extension": ".py",
   "mimetype": "text/x-python",
   "name": "python",
   "nbconvert_exporter": "python",
   "pygments_lexer": "ipython3",
   "version": "3.11.13"
  }
 },
 "nbformat": 4,
 "nbformat_minor": 5
}
