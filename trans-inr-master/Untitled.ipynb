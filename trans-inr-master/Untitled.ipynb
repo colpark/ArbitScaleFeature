{
 "cells": [
  {
   "cell_type": "code",
   "execution_count": 1,
   "id": "40581749-7b7a-4a8a-97ba-fcea913876ba",
   "metadata": {},
   "outputs": [],
   "source": [
    "import torch\n",
    "import yaml\n",
    "import einops\n",
    "import torchvision\n",
    "import os\n",
    "from tqdm import tqdm\n",
    "from torch.utils.data import DataLoader\n",
    "import os\n",
    "import matplotlib.pyplot as plt\n",
    "import numpy as np\n",
    "from torchvision.transforms.functional import to_pil_image\n",
    "import torch.nn.functional as F\n",
    "import umap.umap_ as umap\n",
    "from utils import make_coord_grid\n",
    "import yaml\n",
    "from datasets import make as make_dataset\n",
    "from models import make as make_model\n",
    "import pickle\n",
    "from sklearn.manifold import TSNE\n",
    "import os\n",
    "from glob import glob\n",
    "import ipywidgets as widgets\n",
    "from ipywidgets import interact_manual\n",
    "import matplotlib.pyplot as plt\n",
    "import numpy as np\n",
    "from datasets.fmri_dataloader import DataModule"
   ]
  },
  {
   "cell_type": "code",
   "execution_count": null,
   "id": "fcd9badc-23ff-47bf-8f52-4ce8954c2957",
   "metadata": {},
   "outputs": [],
   "source": []
  }
 ],
 "metadata": {
  "kernelspec": {
   "display_name": "mamba-env",
   "language": "python",
   "name": "mamba-env"
  },
  "language_info": {
   "codemirror_mode": {
    "name": "ipython",
    "version": 3
   },
   "file_extension": ".py",
   "mimetype": "text/x-python",
   "name": "python",
   "nbconvert_exporter": "python",
   "pygments_lexer": "ipython3",
   "version": "3.11.13"
  }
 },
 "nbformat": 4,
 "nbformat_minor": 5
}
