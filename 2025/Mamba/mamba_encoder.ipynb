{
 "cells": [
  {
   "cell_type": "code",
   "execution_count": 4,
   "id": "7994684e-06b5-48e8-886e-b3b3a91e3b47",
   "metadata": {
    "tags": []
   },
   "outputs": [],
   "source": [
    "import pandas as pd\n",
    "from PIL import Image\n",
    "import numpy as np\n",
    "import torch\n",
    "from torch.utils.data import DataLoader, Dataset\n",
    "import torchvision.transforms as transforms\n",
    "import torch.nn.functional as F\n",
    "from torch import nn\n",
    "import matplotlib.pyplot as plt\n",
    "from tqdm import tqdm\n",
    "from PIL import Image\n",
    "import os\n",
    "from einops import rearrange, repeat\n",
    "import einops\n",
    "from glob import glob\n",
    "from math import log\n",
    "import math\n",
    "from tqdm import tqdm\n",
    "import pickle\n",
    "from mamba_ssm import Mamba\n",
    "from mamba_ssm.modules.block import Block\n",
    "import matplotlib.pyplot as plt\n",
    "from transformer import TransformerEncoderINR\n",
    "import time\n",
    "from torch.utils.data import DataLoader\n",
    "from torchvision import datasets, transforms\n",
    "import cProfile"
   ]
  },
  {
   "cell_type": "code",
   "execution_count": 5,
   "id": "0a095377-b677-4d5c-ba10-d609768ffd78",
   "metadata": {
    "tags": []
   },
   "outputs": [],
   "source": [
    "device = torch.device('cuda' if torch.cuda.is_available() else 'cpu')"
   ]
  },
  {
   "cell_type": "code",
   "execution_count": 6,
   "id": "3ae2fc8f-9496-4681-9e58-30591974398e",
   "metadata": {},
   "outputs": [],
   "source": [
    "def fourier_encode(xy: torch.Tensor, freq: torch.Tensor) -> torch.Tensor:\n",
    "    xy = xy.unsqueeze(1)\n",
    "    freq1 = freq[0:len(freq)//2 ]\n",
    "    freq2 = freq[len(freq)//2:]\n",
    "    \n",
    "    \n",
    "    freq1 = torch.tensor(freq1, dtype = torch.float32).view(1, -1, 1)\n",
    "    freq2 = torch.tensor(freq2, dtype = torch.float32).view(1, -1, 1)\n",
    "\n",
    "    scaled1 = 2 * torch.pi * (1/freq1) * xy  \n",
    "    scaled2 = 2 * torch.pi * (1/freq2) * xy  \n",
    "\n",
    "    sin_feat = torch.sin(scaled1)  \n",
    "    cos_feat = torch.cos(scaled2)  \n",
    "\n",
    "\n",
    "    features = torch.cat([sin_feat, cos_feat], dim=-1)  \n",
    "    return features.view(xy.shape[0], -1) "
   ]
  },
  {
   "cell_type": "code",
   "execution_count": 7,
   "id": "90b7d09e-8bc1-4f64-9ec5-203379535011",
   "metadata": {},
   "outputs": [],
   "source": [
    "#Dataset to customize type of positional encoding of input\n",
    "class ImageINRDatasetFourier(Dataset):\n",
    "    def __init__(self, dataframe, fourier = False, gaussian = False, num_freq = 1, freq_param = None, freq_file = 'freq.pkl', gauss_scale = 1):\n",
    "        self.dataframe = dataframe\n",
    "        \n",
    "        if (fourier or gaussian) == False:\n",
    "            #No positional encoding, just x and y \n",
    "            self.x = torch.tensor(dataframe[['x_pos', 'y_pos']].values, dtype=torch.float32)\n",
    "        else:\n",
    "            if fourier == True:\n",
    "                #fourier encoding with just cos/sin 2x and 2y\n",
    "                freq = [1, 1]\n",
    "            elif gaussian == True:\n",
    "                #normal random sample num_freq frequencies for cos and sin to include in positional encoding\n",
    "                freq = np.random.normal(0, 1, size = num_freq*2)*gauss_scale\n",
    "\n",
    "                #Need to save these frequencies because they must also be used for pos encoding inputs at inference time\n",
    "                pickle.dump(freq, open(freq_file, \"wb\"))\n",
    "            else:\n",
    "                #if you want to pass in custom frequencies\n",
    "                freq = freq_param\n",
    "\n",
    "            x = dataframe['x_pos']\n",
    "            y = dataframe['y_pos'] \n",
    "            xy = torch.tensor(np.stack([x, y], axis=-1), dtype = torch.float32)\n",
    "            self.x = fourier_encode(xy, freq)\n",
    "                         \n",
    "        self.y = torch.tensor(dataframe[['R', 'G', 'B']].values, dtype=torch.float32)\n",
    "\n",
    "    def __len__(self):\n",
    "        return len(self.dataframe)\n",
    "\n",
    "    def __getitem__(self, idx):\n",
    "        return self.x[idx], self.y[idx]"
   ]
  },
  {
   "cell_type": "code",
   "execution_count": 8,
   "id": "f92d080a-80a8-497b-9753-16135ca7d589",
   "metadata": {},
   "outputs": [],
   "source": [
    "def scan(x):\n",
    "        return rearrange(x.reshape(x.shape[0], x.shape[1], -1), 'b c l -> b l c')"
   ]
  },
  {
   "cell_type": "code",
   "execution_count": 7,
   "id": "b95a3d4e-38ce-48a8-9034-b30ab8d64c06",
   "metadata": {},
   "outputs": [
    {
     "name": "stdout",
     "output_type": "stream",
     "text": [
      "torch.Size([2, 400, 3])\n"
     ]
    }
   ],
   "source": [
    "B = 2\n",
    "C = 3\n",
    "H = 20\n",
    "W = 20\n",
    "shape = (B, C, H, W)\n",
    "input = torch.rand(shape)\n",
    "input = scan(input)\n",
    "print(input.shape)"
   ]
  },
  {
   "cell_type": "code",
   "execution_count": 8,
   "id": "f1c90230-c129-414e-a1ee-db092eb09724",
   "metadata": {},
   "outputs": [
    {
     "name": "stdout",
     "output_type": "stream",
     "text": [
      "torch.Size([32])\n",
      "torch.Size([2, 400, 32])\n",
      "torch.Size([2, 400, 35])\n"
     ]
    }
   ],
   "source": [
    "x = np.linspace(0, 1, W)\n",
    "y = np.linspace(0, 1, H)\n",
    "xx, yy = np.meshgrid(x, y)  # shape: (H, W)\n",
    "\n",
    "X = torch.tensor(np.stack([xx, yy], axis=-1).reshape(-1, 2), dtype = torch.float32)  # shape: (H*W, 2)\n",
    "\n",
    "num_freq = 10\n",
    "gauss_scale = 10\n",
    "#freq = np.random.normal(0, 1, size = num_freq*2)*gauss_scale\n",
    "freq = [1/num for num in range(1, 17)]\n",
    "X = fourier_encode(X, freq)\n",
    "#X = X.reshape(H, W, -1)\n",
    "\n",
    "print(X[0].shape)\n",
    "X = X.repeat(B, 1, 1)\n",
    "print(X.shape)\n",
    "\n",
    "output = torch.cat((X, input), dim = 2)\n",
    "print(output.shape)"
   ]
  },
  {
   "cell_type": "code",
   "execution_count": 9,
   "id": "ee02d52b-5461-47fd-95a5-8b0df638efd4",
   "metadata": {},
   "outputs": [],
   "source": [
    "import torch\n",
    "import torch.nn as nn\n",
    "import torch.nn.functional as F\n",
    "\n",
    "#from models import register\n",
    "\n",
    "#@register('mamba_tokenizer')\n",
    "class MambaTokenizer(nn.Module):\n",
    "\n",
    "    def __init__(self, input_size, dim, pos_emb = 'learned', padding=0, img_channels=3):\n",
    "        super().__init__()\n",
    "        #Take input of size MxM, flatten to M^2, create gauss pos emb and map to higher dim, add N LPs \n",
    "        \n",
    "        if isinstance(input_size, int):\n",
    "            input_size = (input_size, input_size)\n",
    "\n",
    "        self.learned_posemb = (pos_emb == 'learned')\n",
    "\n",
    "        if (self.learned_posemb):\n",
    "            self.posemb = nn.Parameter(torch.randn(input_size[0]*input_size[1], dim))\n",
    "        else:\n",
    "            self.posemb = self.generate_posemb(input_size[0], input_size[1])\n",
    "            dim -= 32\n",
    "\n",
    "        self.prefc = nn.Linear(img_channels, dim)\n",
    "            \n",
    "\n",
    "    def scan(x):\n",
    "        return rearrange(x.reshape(x.shape[0], x.shape[1], -1), 'b c l -> b l c')\n",
    "\n",
    "    def generate_posemb(self, H, W):\n",
    "        x = np.linspace(0, 1, W)\n",
    "        y = np.linspace(0, 1, H)\n",
    "        xx, yy = np.meshgrid(x, y)  # shape: (H, W)\n",
    "        \n",
    "        X = torch.tensor(np.stack([xx, yy], axis=-1).reshape(-1, 2), dtype = torch.float32)  # shape: (H*W, 2)\n",
    "        \n",
    "        num_freq = 10\n",
    "        gauss_scale = 10\n",
    "        freq = [1/num for num in range(1, 17)]\n",
    "        X = fourier_encode(X, freq)\n",
    "        \n",
    "        return X\n",
    "        \n",
    "\n",
    "    def forward(self, data):\n",
    "        #x = data['inp'] #B C H W\n",
    "        x = data #B C H W\n",
    "        B, C, H, W = x.shape\n",
    "        x = scan(x)\n",
    "        x = self.prefc(x)\n",
    "        if (self.learned_posemb):\n",
    "            x = x + self.posemb.unsqueeze(0)\n",
    "        else:\n",
    "            x = torch.cat((self.posemb.repeat(B, 1, 1), x), dim = 2)\n",
    "        return x"
   ]
  },
  {
   "cell_type": "code",
   "execution_count": 10,
   "id": "6c77f760-beb7-41da-bde6-92887812d63d",
   "metadata": {},
   "outputs": [],
   "source": [
    "class Attention(nn.Module):\n",
    "\n",
    "    def __init__(self, dim, n_head, head_dim, dropout=0.):\n",
    "        super().__init__()\n",
    "        self.n_head = n_head\n",
    "        inner_dim = n_head * head_dim\n",
    "        self.to_q = nn.Linear(dim, inner_dim, bias=False)\n",
    "        self.to_kv = nn.Linear(dim, inner_dim * 2, bias=False)\n",
    "        self.scale = head_dim ** -0.5\n",
    "        self.to_out = nn.Sequential(\n",
    "            nn.Linear(inner_dim, dim),\n",
    "            nn.Dropout(dropout),\n",
    "        )\n",
    "\n",
    "    def forward(self, fr, to=None):\n",
    "        if to is None:\n",
    "            to = fr\n",
    "        q = self.to_q(fr)\n",
    "        k, v = self.to_kv(to).chunk(2, dim=-1)\n",
    "        q, k, v = map(lambda t: einops.rearrange(t, 'b n (h d) -> b h n d', h=self.n_head), [q, k, v])\n",
    "\n",
    "        dots = torch.matmul(q, k.transpose(-1, -2)) * self.scale\n",
    "        attn = F.softmax(dots, dim=-1) # b h n n\n",
    "        out = torch.matmul(attn, v)\n",
    "        out = einops.rearrange(out, 'b h n d -> b n (h d)')\n",
    "        return self.to_out(out)\n",
    "\n",
    "\n",
    "class FeedForward(nn.Module):\n",
    "\n",
    "    def __init__(self, dim, ff_dim, dropout=0.):\n",
    "        super().__init__()\n",
    "        self.net = nn.Sequential(\n",
    "            nn.Linear(dim, ff_dim),\n",
    "            nn.GELU(),\n",
    "            nn.Dropout(dropout),\n",
    "            nn.Linear(ff_dim, dim),\n",
    "            nn.Dropout(dropout),\n",
    "        )\n",
    "\n",
    "    def forward(self, x):\n",
    "        return self.net(x)\n",
    "\n",
    "\n",
    "class PreNorm(nn.Module):\n",
    "\n",
    "    def __init__(self, dim, fn):\n",
    "        super().__init__()\n",
    "        self.norm = nn.LayerNorm(dim)\n",
    "        self.fn = fn\n",
    "\n",
    "    def forward(self, x):\n",
    "        return self.fn(self.norm(x))"
   ]
  },
  {
   "cell_type": "code",
   "execution_count": 17,
   "id": "f5603fe5-ef63-401c-b6a0-e1d6aad35d37",
   "metadata": {
    "tags": []
   },
   "outputs": [],
   "source": [
    "class BiMamba(torch.nn.Module):\n",
    "    def __init__(self, dim = 512):\n",
    "        super(BiMamba, self).__init__()\n",
    "        \n",
    "        self.f_mamba = Mamba(d_model = dim)\n",
    "        self.r_mamba = Mamba(d_model = dim)\n",
    "        \n",
    "    def forward(self, x, **kwargs):\n",
    "        x_f = self.f_mamba(x, **kwargs)\n",
    "        x_r = torch.flip(self.r_mamba(torch.flip(x, dims=[1]), **kwargs), dims=[1])\n",
    "        out = (x_f + x_r)/2\n",
    "        \n",
    "        return out\n",
    "        \n",
    "class MambaStack(torch.nn.Module):\n",
    "    def __init__(self, depth = 3, dim = 512, ff_dim = None, dropout=0.):\n",
    "        super(MambaStack, self).__init__()\n",
    "        if not (ff_dim):\n",
    "            self.ff_dim = 4*dim\n",
    "        else: \n",
    "            self.ff_dim = ff_dim\n",
    "        self.blocks = nn.ModuleList([\n",
    "            Block(\n",
    "                t_dim=token_dim,\n",
    "                mixer_cls= lambda t_dim: BiMamba(dim),\n",
    "                mlp_cls= lambda t_dim: torch.nn.Sequential(\n",
    "                    nn.Linear(t_dim, ff_dim),\n",
    "                    nn.GELU(),\n",
    "                    nn.Dropout(dropout),\n",
    "                    nn.Linear(ff_dim, t_dim),\n",
    "                    nn.Dropout(dropout),\n",
    "                ),\n",
    "                norm_cls=nn.LayerNorm,  # or RMSNorm\n",
    "                fused_add_norm=False\n",
    "            )\n",
    "            for _ in range(depth)\n",
    "        ])\n",
    "    \n",
    "    def forward(self, x):\n",
    "        residual = None\n",
    "        for block in self.blocks:\n",
    "            x, residual = block(x, residual=residual)\n",
    "        return x\n",
    "\n",
    "#@register('transformer_encoder')\n",
    "class TransformerEncoder(nn.Module):\n",
    "\n",
    "    def __init__(self, dim, depth, n_head, head_dim, ff_dim, dropout=0.):\n",
    "        super().__init__()\n",
    "        self.layers = nn.ModuleList()\n",
    "        for _ in range(depth):\n",
    "            self.layers.append(nn.ModuleList([\n",
    "                PreNorm(dim, Attention(dim, n_head, head_dim, dropout=dropout)),\n",
    "                PreNorm(dim, FeedForward(dim, ff_dim, dropout=dropout)),\n",
    "            ]))\n",
    "\n",
    "    def forward(self, x):\n",
    "        for norm_attn, norm_ff in self.layers:\n",
    "            x = x + norm_attn(x)\n",
    "            x = x + norm_ff(x)\n",
    "        return x\n",
    "    \n",
    "class mamba_inr(torch.nn.Module):\n",
    "\n",
    "    def __init__(self, input_size, token_dim = 512, output_size = 3, model_type = 'stacked', num_lp = 1):\n",
    "        super(MambaCLS, self).__init__()\n",
    "        self.token_dim = token_dim\n",
    "        if model_type == 'stacked':\n",
    "            self.mamba = MambaStack(num = 6, token_dim = self.token_dim)\n",
    "        else:\n",
    "            self.mamba = BiMamba(token_dim = self.token_dim)\n",
    "            \n",
    "        self.input = torch.nn.Linear(input_size, self.token_dim)\n",
    "        self.output = torch.nn.Linear(self.token_dim, output_size)\n",
    "        self.pred_out= torch.nn.Sequential(torch.nn.Linear(self.token_dim, self.token_dim), torch.nn.Linear(self.token_dim, self.token_dim),\n",
    "                                               torch.nn.Linear(self.token_dim, output_size))\n",
    "\n",
    "        self.sig = torch.nn.Sigmoid()\n",
    "\n",
    "        self.num_lp = num_lp\n",
    "        self.lp = torch.nn.Parameter(torch.empty((self.num_lp, self.token_dim), dtype = torch.float32))\n",
    "        self.lp_idxs = None\n",
    "    \n",
    "    def set_lp_idxs(self, lp_idxs):\n",
    "        self.lp_idxs = lp_idxs\n",
    "        \n",
    "    def add_lp(self, x):\n",
    "        \n",
    "        if x.ndim == 2:\n",
    "            seq_len = x.shape[0]\n",
    "        elif x.ndim == 3:\n",
    "            seq_len = x.shape[1]\n",
    "        total_len = seq_len + self.num_lp\n",
    "        \n",
    "        chunk_size = round(seq_len/(self.num_lp+1))\n",
    "        insert_idxs = torch.clamp(torch.tensor([(chunk_size+1)*(x+1)-1 for x in range (self.num_lp)]), min = 0, max = total_len-1)\n",
    "        self.set_lp_idxs(insert_idxs)\n",
    "        \n",
    "\n",
    "        mask = torch.zeros(total_len, dtype=torch.bool)\n",
    "        mask[insert_idxs] = True\n",
    "\n",
    "        out = torch.empty((x.shape[0], total_len, self.token_dim), dtype=torch.float32).to(x.device)\n",
    "        out[:, mask] = self.lp\n",
    "        out[:, ~mask] = x\n",
    "        return out\n",
    "    \n",
    "    def extract_lp_tokens(self, x):\n",
    "        return x[:, self.lp_idxs]\n",
    "        \n",
    "    def forward(self, x):\n",
    "        \n",
    "        x = self.input(x)\n",
    "        x = self.add_lp(x)\n",
    "        x = self.mamba(x)\n",
    "        x = self.extract_lp_tokens(x)\n",
    "        x = self.pred_out(x.squeeze(1))\n",
    "\n",
    "        return x\n",
    "        \n",
    "class MambaEncoder(torch.nn.Module):\n",
    "    def __init__(self, depth = 6, dim = 768, ff_dim = None, dropout=0.):\n",
    "        super(MambaEncoder, self).__init__()\n",
    "        if not ff_dim:\n",
    "            self.ff_dim = 4*dim\n",
    "        else: \n",
    "            self.ff_dim = ff_dim\n",
    "        token_dim = dim\n",
    "        self.blocks = nn.ModuleList([\n",
    "            Block(\n",
    "                dim=token_dim,\n",
    "                mixer_cls= lambda dim: BiMamba(dim),\n",
    "                mlp_cls= lambda dim: torch.nn.Sequential(\n",
    "                    nn.Linear(dim, self.ff_dim),\n",
    "                    nn.GELU(),\n",
    "                    nn.Dropout(dropout),\n",
    "                    nn.Linear(self.ff_dim, dim),\n",
    "                    nn.Dropout(dropout),\n",
    "                ),\n",
    "                norm_cls=nn.LayerNorm,  # or RMSNorm\n",
    "                fused_add_norm=False\n",
    "            )\n",
    "            for _ in range(depth)\n",
    "        ])\n",
    "    \n",
    "    def forward(self, x):\n",
    "        residual = None\n",
    "        for block in self.blocks:\n",
    "            x, residual = block(x, residual=residual)\n",
    "        return x"
   ]
  },
  {
   "cell_type": "code",
   "execution_count": 24,
   "id": "2b709161-7ec9-4eca-b760-e148ffba0e7a",
   "metadata": {
    "tags": []
   },
   "outputs": [
    {
     "name": "stdout",
     "output_type": "stream",
     "text": [
      "torch.Size([3, 100, 768])\n",
      "torch.Size([3, 100, 768])\n"
     ]
    }
   ],
   "source": [
    "T = TransformerEncoder(dim = 768, depth = 6, n_head = 4, head_dim = 64, ff_dim = 3072).to(device)\n",
    "M = MambaEncoder(dim = 768).to(device)\n",
    "B = 3\n",
    "L = 100\n",
    "D = 768\n",
    "\n",
    "test_input = torch.randn((B, L, D)).to(device)\n",
    "\n",
    "out1 = T(test_input)\n",
    "out2 = M(test_input)\n",
    "\n",
    "print(out1.shape)\n",
    "print(out2.shape)"
   ]
  },
  {
   "cell_type": "code",
   "execution_count": 5,
   "id": "7bb49cd6-867e-4eec-950e-049439a211b1",
   "metadata": {
    "execution": {
     "iopub.execute_input": "2025-07-03T15:38:10.029450Z",
     "iopub.status.busy": "2025-07-03T15:38:10.029112Z",
     "iopub.status.idle": "2025-07-03T15:38:10.035590Z",
     "shell.execute_reply": "2025-07-03T15:38:10.035137Z",
     "shell.execute_reply.started": "2025-07-03T15:38:10.029428Z"
    },
    "tags": []
   },
   "outputs": [
    {
     "name": "stdout",
     "output_type": "stream",
     "text": [
      "tensor([[-0.2638, -0.8965,  0.1289,  0.1090, -1.1527]])\n",
      "tensor([[[-0.2638],\n",
      "         [-0.8965],\n",
      "         [ 0.1289],\n",
      "         [ 0.1090],\n",
      "         [-1.1527]]])\n"
     ]
    }
   ],
   "source": [
    "test_input = torch.randn((1, 5))\n",
    "print(test_input)\n",
    "test_input = test_input.unsqueeze(2)\n",
    "print(test_input)"
   ]
  },
  {
   "cell_type": "code",
   "execution_count": 9,
   "id": "82e844f1-bdc6-4e07-8504-16df84f57b27",
   "metadata": {},
   "outputs": [],
   "source": [
    "class HypoMlp(torch.nn.Module):\n",
    "\n",
    "    def __init__(self, depth, in_dim, out_dim, hidden_dim, use_pe, pe_dim, out_bias=0, pe_sigma=1024):\n",
    "        super().__init__()\n",
    "        self.use_pe = use_pe\n",
    "        self.pe_dim = pe_dim\n",
    "        self.pe_sigma = pe_sigma\n",
    "        self.depth = depth\n",
    "        self.param_shapes = dict()\n",
    "        if use_pe:\n",
    "            last_dim = in_dim * pe_dim\n",
    "        else:\n",
    "            last_dim = in_dim\n",
    "        for i in range(depth):\n",
    "            cur_dim = hidden_dim if i < depth - 1 else out_dim\n",
    "            self.param_shapes[f'wb{i}'] = (last_dim + 1, cur_dim)\n",
    "            last_dim = cur_dim\n",
    "        self.relu = nn.ReLU()\n",
    "        self.params = None\n",
    "        self.out_bias = out_bias\n",
    "\n",
    "    def set_params(self, params):\n",
    "        self.params = params\n",
    "\n",
    "    def convert_posenc(self, x):\n",
    "        w = torch.exp(torch.linspace(0, np.log(self.pe_sigma), self.pe_dim // 2, device=x.device))\n",
    "        x = torch.matmul(x.unsqueeze(-1), w.unsqueeze(0)).view(*x.shape[:-1], -1)\n",
    "        x = torch.cat([torch.cos(np.pi * x), torch.sin(np.pi * x)], dim=-1)\n",
    "        return x\n",
    "\n",
    "    def forward(self, x):\n",
    "        B, query_shape = x.shape[0], x.shape[1: -1]\n",
    "        x = x.view(B, -1, x.shape[-1])\n",
    "        if self.use_pe:\n",
    "            x = self.convert_posenc(x)\n",
    "        for i in range(self.depth):\n",
    "            x = batched_linear_mm(x, self.params[f'wb{i}'])\n",
    "            if i < self.depth - 1:\n",
    "                x = self.relu(x)\n",
    "            else:\n",
    "                x = x + self.out_bias\n",
    "        x = x.view(B, *query_shape, -1)\n",
    "        return x"
   ]
  },
  {
   "cell_type": "code",
   "execution_count": 15,
   "id": "8b4f7b7b-5135-4418-a2f9-d3158853e5df",
   "metadata": {
    "tags": []
   },
   "outputs": [],
   "source": [
    "hyponet = HypoMlp(5, 2, 3, 256, True, 128, out_bias=0, pe_sigma=1024)"
   ]
  },
  {
   "cell_type": "code",
   "execution_count": 16,
   "id": "744c6c33-14b5-4c06-b407-f23d728d23f8",
   "metadata": {},
   "outputs": [
    {
     "name": "stdout",
     "output_type": "stream",
     "text": [
      "{'wb0': (257, 256), 'wb1': (257, 256), 'wb2': (257, 256), 'wb3': (257, 256), 'wb4': (257, 3)}\n"
     ]
    }
   ],
   "source": [
    "print(hyponet.param_shapes)"
   ]
  },
  {
   "cell_type": "code",
   "execution_count": 12,
   "id": "3159a4f9-021d-429a-afbc-34bbb7175898",
   "metadata": {
    "tags": []
   },
   "outputs": [],
   "source": [
    "batch_size = 64\n",
    "num_epochs = 20\n",
    "lr = 1e-3"
   ]
  },
  {
   "cell_type": "code",
   "execution_count": 13,
   "id": "0c26231b-4e36-49d4-9a15-29622c330775",
   "metadata": {
    "tags": []
   },
   "outputs": [],
   "source": [
    "transform = transforms.Compose([\n",
    "    transforms.ToTensor(),\n",
    "    transforms.Normalize((0.5,), (0.5,))\n",
    "])\n",
    "\n",
    "train_data = datasets.FashionMNIST(root='.', train=True, download=True, transform=transform)\n",
    "test_data = datasets.FashionMNIST(root='.', train=False, download=True, transform=transform)\n",
    "\n",
    "train_loader = DataLoader(train_data, batch_size=batch_size, shuffle=True)\n",
    "test_loader = DataLoader(test_data, batch_size=batch_size)"
   ]
  },
  {
   "cell_type": "code",
   "execution_count": 14,
   "id": "431ce1f8-0ad8-4d34-834b-121e01c262da",
   "metadata": {},
   "outputs": [
    {
     "name": "stdout",
     "output_type": "stream",
     "text": [
      "157\n",
      "938\n"
     ]
    }
   ],
   "source": [
    "print(len(test_loader))\n",
    "print(len(train_loader))"
   ]
  },
  {
   "cell_type": "code",
   "execution_count": 15,
   "id": "f96adfd3-a66f-4a0b-a611-639c180fa0f4",
   "metadata": {},
   "outputs": [
    {
     "name": "stdout",
     "output_type": "stream",
     "text": [
      "torch.Size([2, 1, 28, 28])\n"
     ]
    },
    {
     "name": "stderr",
     "output_type": "stream",
     "text": [
      "/tmp/ipykernel_250/4009651110.py:1: DeprecationWarning: __array__ implementation doesn't accept a copy keyword, so passing copy=False failed. __array__ must implement 'dtype' and 'copy' keyword arguments.\n",
      "  img1 = torch.tensor(np.array(train_data[0][0]))\n",
      "/tmp/ipykernel_250/4009651110.py:2: DeprecationWarning: __array__ implementation doesn't accept a copy keyword, so passing copy=False failed. __array__ must implement 'dtype' and 'copy' keyword arguments.\n",
      "  img2 = torch.tensor(np.array(train_data[1][0]))\n"
     ]
    },
    {
     "data": {
      "image/png": "[encoded data removed]",
      "text/plain": [
       "<Figure size 640x480 with 1 Axes>"
      ]
     },
     "metadata": {},
     "output_type": "display_data"
    }
   ],
   "source": [
    "img1 = torch.tensor(np.array(train_data[0][0]))\n",
    "img2 = torch.tensor(np.array(train_data[1][0]))\n",
    "\n",
    "img = torch.cat((img1.unsqueeze(0), img2.unsqueeze(0)), dim = 0)\n",
    "print(img.shape)\n",
    "plt.imshow(img1.squeeze(0))\n",
    "plt.show()"
   ]
  },
  {
   "cell_type": "code",
   "execution_count": 153,
   "id": "915bc74b-bdaa-4d4c-ae7d-41553effa028",
   "metadata": {},
   "outputs": [
    {
     "name": "stdout",
     "output_type": "stream",
     "text": [
      "torch.Size([2, 784, 256])\n"
     ]
    }
   ],
   "source": [
    "tokenizer = MambaTokenizer(28, 256, pos_emb = 'learned', img_channels = 1)\n",
    "out = tokenizer(img)\n",
    "print(out.shape)"
   ]
  },
  {
   "cell_type": "code",
   "execution_count": 9,
   "id": "f5f5e61f-9616-4b96-9873-e0cba5e54a9d",
   "metadata": {
    "execution": {
     "iopub.execute_input": "2025-07-03T15:38:15.032194Z",
     "iopub.status.busy": "2025-07-03T15:38:15.031855Z",
     "iopub.status.idle": "2025-07-03T15:38:15.036158Z",
     "shell.execute_reply": "2025-07-03T15:38:15.035683Z",
     "shell.execute_reply.started": "2025-07-03T15:38:15.032171Z"
    },
    "tags": []
   },
   "outputs": [
    {
     "name": "stdout",
     "output_type": "stream",
     "text": [
      "tensor([[ 1,  6,  2,  7,  3,  8,  4,  9,  5, 10]])\n"
     ]
    }
   ],
   "source": [
    "x = torch.tensor([[[1, 2, 3, 4, 5], [6, 7, 8, 9, 10]]])\n",
    "x = torch.transpose(x, 1, 2)\n",
    "print(x.reshape(1, 10,))"
   ]
  },
  {
   "cell_type": "code",
   "execution_count": 6,
   "id": "2b17c4d6-a589-4fec-a015-33ea81337364",
   "metadata": {
    "tags": []
   },
   "outputs": [],
   "source": [
    "def scan(x):\n",
    "    return x.reshape(x.shape[0], -1).unsqueeze(2)"
   ]
  },
  {
   "cell_type": "code",
   "execution_count": 16,
   "id": "eec64b59-a311-4119-9f98-b47844f98e43",
   "metadata": {},
   "outputs": [
    {
     "ename": "NameError",
     "evalue": "name 'MambaCLS' is not defined",
     "output_type": "error",
     "traceback": [
      "\u001b[0;31m---------------------------------------------------------------------------\u001b[0m",
      "\u001b[0;31mNameError\u001b[0m                                 Traceback (most recent call last)",
      "Cell \u001b[0;32mIn[16], line 1\u001b[0m\n\u001b[0;32m----> 1\u001b[0m model \u001b[38;5;241m=\u001b[39m \u001b[43mMambaCLS\u001b[49m(input_size \u001b[38;5;241m=\u001b[39m \u001b[38;5;241m1\u001b[39m, token_dim \u001b[38;5;241m=\u001b[39m \u001b[38;5;241m256\u001b[39m, output_size \u001b[38;5;241m=\u001b[39m \u001b[38;5;241m10\u001b[39m)\u001b[38;5;241m.\u001b[39mto(device)\n\u001b[1;32m      2\u001b[0m model\u001b[38;5;241m.\u001b[39meval()\n\u001b[1;32m      4\u001b[0m test_input \u001b[38;5;241m=\u001b[39m torch\u001b[38;5;241m.\u001b[39mrandn((\u001b[38;5;241m1\u001b[39m, \u001b[38;5;241m28\u001b[39m, \u001b[38;5;241m28\u001b[39m))\u001b[38;5;241m.\u001b[39mto(device)\n",
      "\u001b[0;31mNameError\u001b[0m: name 'MambaCLS' is not defined"
     ]
    }
   ],
   "source": [
    "model = MambaCLS(input_size = 1, token_dim = 256, output_size = 10).to(device)\n",
    "model.eval()\n",
    "\n",
    "test_input = torch.randn((1, 28, 28)).to(device)\n",
    "test_input = scan(test_input)\n",
    "out = model(test_input)\n",
    "\n",
    "print(out.shape)"
   ]
  },
  {
   "cell_type": "code",
   "execution_count": 8,
   "id": "fcec02fe-8e00-4b1d-8047-9513ee8f3c57",
   "metadata": {},
   "outputs": [],
   "source": [
    "losses = []\n",
    "pickle.dump(losses, open('./cls_losses.pkl', \"wb\"))"
   ]
  },
  {
   "cell_type": "code",
   "execution_count": 15,
   "id": "344b1a2d-1a34-4f7e-aed9-384ba435a9da",
   "metadata": {
    "tags": []
   },
   "outputs": [],
   "source": [
    "def train():\n",
    "    # ======= Model Setup =======\n",
    "    model_dim = 128\n",
    "    num_classes = 10\n",
    "    ofcount = 0\n",
    "\n",
    "    model = MambaCLS(input_size = 1, token_dim = 256, output_size = num_classes).to(device)\n",
    "    optimizer = torch.optim.Adam(model.parameters(), lr=lr)\n",
    "    criterion = nn.CrossEntropyLoss()\n",
    "\n",
    "    # ======= Training Loop =======\n",
    "    losses = []\n",
    "    val_losses = []\n",
    "    best_val_loss = float('inf')\n",
    "    patience = 5              # How many epochs to wait before considering convergence\n",
    "    epochs_no_improve = 0     # Counter for early stopping\n",
    "    \n",
    "    for epoch in range(num_epochs):\n",
    "        model.train()\n",
    "        total_loss = 0\n",
    "        for imgs, labels in tqdm(train_loader):\n",
    "            imgs = imgs.to(device)\n",
    "            labels = labels.to(device)\n",
    "            #x = patchify(imgs, patch_size)  # (B, N, D)\n",
    "            x = scan(imgs)\n",
    "            preds = model(x)\n",
    "            loss = criterion(preds, labels)\n",
    "\n",
    "            optimizer.zero_grad()\n",
    "            loss.backward()\n",
    "            optimizer.step()\n",
    "\n",
    "            total_loss += loss.item()\n",
    "            \n",
    "        losses.append(total_loss / len(train_loader))\n",
    "        pickle.dump(losses, open('./cls_losses.pkl', \"wb\"))\n",
    "        print(f\"[Epoch {epoch+1}] Train Loss: {total_loss / len(train_loader):.4f}\")\n",
    "\n",
    "        # Eval\n",
    "        model.eval()\n",
    "        correct = 0\n",
    "        total = 0\n",
    "        total_val_loss = 0\n",
    "        with torch.no_grad():\n",
    "            for imgs, labels in tqdm(test_loader):\n",
    "                imgs = imgs.to(device)\n",
    "                labels = labels.to(device)\n",
    "                x = scan(imgs)\n",
    "                preds = model(x)\n",
    "                loss = criterion(preds, labels)\n",
    "                total_val_loss += loss.item()\n",
    "                pred_labels = preds.argmax(dim=1)\n",
    "                correct += (pred_labels == labels).sum().item()\n",
    "                total += labels.size(0)\n",
    "\n",
    "        val_loss = total_val_loss/len(test_loader)\n",
    "        val_losses.append(val_loss)\n",
    "        pickle.dump(val_losses, open('./cls_val_losses.pkl', \"wb\"))\n",
    "        acc = correct / total\n",
    "        print(f\"[Epoch {epoch+1}] Test Accuracy: {acc:.2%}\")\n",
    "\n",
    "        if val_loss < best_val_loss:\n",
    "            best_val_loss = val_loss\n",
    "            epochs_no_improve = 0\n",
    "            checkpoint = {\n",
    "                    'epoch': epoch,\n",
    "                    'model_state_dict': model.state_dict(),\n",
    "                    'optimizer_state_dict': optimizer.state_dict(),\n",
    "                    'loss': total_loss,\n",
    "                    # Add other relevant information as needed\n",
    "                }\n",
    "            model_file = f'./mamba_cls_models/mamba_cls_epoch_{epoch}.pth'\n",
    "            torch.save(checkpoint, model_file)\n",
    "            print(\"Validation loss improved. Model saved.\")\n",
    "        else:\n",
    "            epochs_no_improve += 1\n",
    "            print(f\"No improvement for {epochs_no_improve} epoch(s).\")\n",
    "    \n",
    "        # Check for convergence\n",
    "        if epochs_no_improve >= patience:\n",
    "            print(\"Early stopping: Validation loss has converged.\")\n",
    "            break\n",
    "    \n"
   ]
  },
  {
   "cell_type": "code",
   "execution_count": 16,
   "id": "97254748-ba3b-4496-9dd2-e8f41668d3b9",
   "metadata": {},
   "outputs": [
    {
     "name": "stderr",
     "output_type": "stream",
     "text": [
      "100%|██████████| 938/938 [02:30<00:00,  6.25it/s]\n"
     ]
    },
    {
     "name": "stdout",
     "output_type": "stream",
     "text": [
      "[Epoch 1] Train Loss: 0.8159\n"
     ]
    },
    {
     "name": "stderr",
     "output_type": "stream",
     "text": [
      "100%|██████████| 157/157 [00:08<00:00, 18.76it/s]\n"
     ]
    },
    {
     "name": "stdout",
     "output_type": "stream",
     "text": [
      "[Epoch 1] Test Accuracy: 80.42%\n",
      "Validation loss improved. Model saved.\n"
     ]
    },
    {
     "name": "stderr",
     "output_type": "stream",
     "text": [
      "100%|██████████| 938/938 [02:30<00:00,  6.24it/s]\n"
     ]
    },
    {
     "name": "stdout",
     "output_type": "stream",
     "text": [
      "[Epoch 2] Train Loss: 0.4669\n"
     ]
    },
    {
     "name": "stderr",
     "output_type": "stream",
     "text": [
      "100%|██████████| 157/157 [00:08<00:00, 18.74it/s]\n"
     ]
    },
    {
     "name": "stdout",
     "output_type": "stream",
     "text": [
      "[Epoch 2] Test Accuracy: 84.62%\n",
      "Validation loss improved. Model saved.\n"
     ]
    },
    {
     "name": "stderr",
     "output_type": "stream",
     "text": [
      "100%|██████████| 938/938 [02:30<00:00,  6.25it/s]\n"
     ]
    },
    {
     "name": "stdout",
     "output_type": "stream",
     "text": [
      "[Epoch 3] Train Loss: 0.3932\n"
     ]
    },
    {
     "name": "stderr",
     "output_type": "stream",
     "text": [
      "100%|██████████| 157/157 [00:08<00:00, 18.76it/s]\n"
     ]
    },
    {
     "name": "stdout",
     "output_type": "stream",
     "text": [
      "[Epoch 3] Test Accuracy: 86.12%\n",
      "Validation loss improved. Model saved.\n"
     ]
    },
    {
     "name": "stderr",
     "output_type": "stream",
     "text": [
      "100%|██████████| 938/938 [02:30<00:00,  6.22it/s]\n"
     ]
    },
    {
     "name": "stdout",
     "output_type": "stream",
     "text": [
      "[Epoch 4] Train Loss: 0.3496\n"
     ]
    },
    {
     "name": "stderr",
     "output_type": "stream",
     "text": [
      "100%|██████████| 157/157 [00:08<00:00, 18.72it/s]\n"
     ]
    },
    {
     "name": "stdout",
     "output_type": "stream",
     "text": [
      "[Epoch 4] Test Accuracy: 86.29%\n",
      "Validation loss improved. Model saved.\n"
     ]
    },
    {
     "name": "stderr",
     "output_type": "stream",
     "text": [
      "100%|██████████| 938/938 [02:32<00:00,  6.17it/s]\n"
     ]
    },
    {
     "name": "stdout",
     "output_type": "stream",
     "text": [
      "[Epoch 5] Train Loss: 0.3215\n"
     ]
    },
    {
     "name": "stderr",
     "output_type": "stream",
     "text": [
      "100%|██████████| 157/157 [00:08<00:00, 18.76it/s]\n"
     ]
    },
    {
     "name": "stdout",
     "output_type": "stream",
     "text": [
      "[Epoch 5] Test Accuracy: 87.61%\n",
      "Validation loss improved. Model saved.\n"
     ]
    },
    {
     "name": "stderr",
     "output_type": "stream",
     "text": [
      "100%|██████████| 938/938 [02:31<00:00,  6.17it/s]\n"
     ]
    },
    {
     "name": "stdout",
     "output_type": "stream",
     "text": [
      "[Epoch 6] Train Loss: 0.2992\n"
     ]
    },
    {
     "name": "stderr",
     "output_type": "stream",
     "text": [
      "100%|██████████| 157/157 [00:08<00:00, 18.71it/s]\n"
     ]
    },
    {
     "name": "stdout",
     "output_type": "stream",
     "text": [
      "[Epoch 6] Test Accuracy: 89.06%\n",
      "Validation loss improved. Model saved.\n"
     ]
    },
    {
     "name": "stderr",
     "output_type": "stream",
     "text": [
      "100%|██████████| 938/938 [02:30<00:00,  6.24it/s]\n"
     ]
    },
    {
     "name": "stdout",
     "output_type": "stream",
     "text": [
      "[Epoch 7] Train Loss: 0.2811\n"
     ]
    },
    {
     "name": "stderr",
     "output_type": "stream",
     "text": [
      "100%|██████████| 157/157 [00:08<00:00, 18.75it/s]\n"
     ]
    },
    {
     "name": "stdout",
     "output_type": "stream",
     "text": [
      "[Epoch 7] Test Accuracy: 89.41%\n",
      "Validation loss improved. Model saved.\n"
     ]
    },
    {
     "name": "stderr",
     "output_type": "stream",
     "text": [
      "100%|██████████| 938/938 [02:30<00:00,  6.25it/s]\n"
     ]
    },
    {
     "name": "stdout",
     "output_type": "stream",
     "text": [
      "[Epoch 8] Train Loss: 0.2895\n"
     ]
    },
    {
     "name": "stderr",
     "output_type": "stream",
     "text": [
      "100%|██████████| 157/157 [00:08<00:00, 18.74it/s]\n"
     ]
    },
    {
     "name": "stdout",
     "output_type": "stream",
     "text": [
      "[Epoch 8] Test Accuracy: 89.77%\n",
      "Validation loss improved. Model saved.\n"
     ]
    },
    {
     "name": "stderr",
     "output_type": "stream",
     "text": [
      "100%|██████████| 938/938 [02:30<00:00,  6.23it/s]\n"
     ]
    },
    {
     "name": "stdout",
     "output_type": "stream",
     "text": [
      "[Epoch 9] Train Loss: 0.2523\n"
     ]
    },
    {
     "name": "stderr",
     "output_type": "stream",
     "text": [
      "100%|██████████| 157/157 [00:08<00:00, 18.76it/s]\n"
     ]
    },
    {
     "name": "stdout",
     "output_type": "stream",
     "text": [
      "[Epoch 9] Test Accuracy: 89.09%\n",
      "No improvement for 1 epoch(s).\n"
     ]
    },
    {
     "name": "stderr",
     "output_type": "stream",
     "text": [
      "100%|██████████| 938/938 [02:30<00:00,  6.23it/s]\n"
     ]
    },
    {
     "name": "stdout",
     "output_type": "stream",
     "text": [
      "[Epoch 10] Train Loss: 0.2568\n"
     ]
    },
    {
     "name": "stderr",
     "output_type": "stream",
     "text": [
      "100%|██████████| 157/157 [00:08<00:00, 18.75it/s]\n"
     ]
    },
    {
     "name": "stdout",
     "output_type": "stream",
     "text": [
      "[Epoch 10] Test Accuracy: 90.53%\n",
      "Validation loss improved. Model saved.\n"
     ]
    },
    {
     "name": "stderr",
     "output_type": "stream",
     "text": [
      "100%|██████████| 938/938 [02:31<00:00,  6.20it/s]\n"
     ]
    },
    {
     "name": "stdout",
     "output_type": "stream",
     "text": [
      "[Epoch 11] Train Loss: 0.2943\n"
     ]
    },
    {
     "name": "stderr",
     "output_type": "stream",
     "text": [
      "100%|██████████| 157/157 [00:08<00:00, 18.69it/s]\n"
     ]
    },
    {
     "name": "stdout",
     "output_type": "stream",
     "text": [
      "[Epoch 11] Test Accuracy: 89.72%\n",
      "No improvement for 1 epoch(s).\n"
     ]
    },
    {
     "name": "stderr",
     "output_type": "stream",
     "text": [
      "100%|██████████| 938/938 [02:31<00:00,  6.17it/s]\n"
     ]
    },
    {
     "name": "stdout",
     "output_type": "stream",
     "text": [
      "[Epoch 12] Train Loss: 0.2373\n"
     ]
    },
    {
     "name": "stderr",
     "output_type": "stream",
     "text": [
      "100%|██████████| 157/157 [00:08<00:00, 18.33it/s]\n"
     ]
    },
    {
     "name": "stdout",
     "output_type": "stream",
     "text": [
      "[Epoch 12] Test Accuracy: 90.69%\n",
      "No improvement for 2 epoch(s).\n"
     ]
    },
    {
     "name": "stderr",
     "output_type": "stream",
     "text": [
      "100%|██████████| 938/938 [02:30<00:00,  6.24it/s]\n"
     ]
    },
    {
     "name": "stdout",
     "output_type": "stream",
     "text": [
      "[Epoch 13] Train Loss: 0.2252\n"
     ]
    },
    {
     "name": "stderr",
     "output_type": "stream",
     "text": [
      "100%|██████████| 157/157 [00:08<00:00, 18.76it/s]\n"
     ]
    },
    {
     "name": "stdout",
     "output_type": "stream",
     "text": [
      "[Epoch 13] Test Accuracy: 90.91%\n",
      "Validation loss improved. Model saved.\n"
     ]
    },
    {
     "name": "stderr",
     "output_type": "stream",
     "text": [
      "100%|██████████| 938/938 [02:30<00:00,  6.23it/s]\n"
     ]
    },
    {
     "name": "stdout",
     "output_type": "stream",
     "text": [
      "[Epoch 14] Train Loss: 0.2160\n"
     ]
    },
    {
     "name": "stderr",
     "output_type": "stream",
     "text": [
      "100%|██████████| 157/157 [00:08<00:00, 18.77it/s]\n"
     ]
    },
    {
     "name": "stdout",
     "output_type": "stream",
     "text": [
      "[Epoch 14] Test Accuracy: 90.16%\n",
      "No improvement for 1 epoch(s).\n"
     ]
    },
    {
     "name": "stderr",
     "output_type": "stream",
     "text": [
      "100%|██████████| 938/938 [02:30<00:00,  6.24it/s]\n"
     ]
    },
    {
     "name": "stdout",
     "output_type": "stream",
     "text": [
      "[Epoch 15] Train Loss: 0.2696\n"
     ]
    },
    {
     "name": "stderr",
     "output_type": "stream",
     "text": [
      "100%|██████████| 157/157 [00:08<00:00, 18.76it/s]\n"
     ]
    },
    {
     "name": "stdout",
     "output_type": "stream",
     "text": [
      "[Epoch 15] Test Accuracy: 90.70%\n",
      "No improvement for 2 epoch(s).\n"
     ]
    },
    {
     "name": "stderr",
     "output_type": "stream",
     "text": [
      "100%|██████████| 938/938 [02:30<00:00,  6.24it/s]\n"
     ]
    },
    {
     "name": "stdout",
     "output_type": "stream",
     "text": [
      "[Epoch 16] Train Loss: 0.2055\n"
     ]
    },
    {
     "name": "stderr",
     "output_type": "stream",
     "text": [
      "100%|██████████| 157/157 [00:08<00:00, 18.77it/s]\n"
     ]
    },
    {
     "name": "stdout",
     "output_type": "stream",
     "text": [
      "[Epoch 16] Test Accuracy: 91.46%\n",
      "Validation loss improved. Model saved.\n"
     ]
    },
    {
     "name": "stderr",
     "output_type": "stream",
     "text": [
      "100%|██████████| 938/938 [02:30<00:00,  6.24it/s]\n"
     ]
    },
    {
     "name": "stdout",
     "output_type": "stream",
     "text": [
      "[Epoch 17] Train Loss: 0.1991\n"
     ]
    },
    {
     "name": "stderr",
     "output_type": "stream",
     "text": [
      "100%|██████████| 157/157 [00:08<00:00, 18.77it/s]\n"
     ]
    },
    {
     "name": "stdout",
     "output_type": "stream",
     "text": [
      "[Epoch 17] Test Accuracy: 91.29%\n",
      "No improvement for 1 epoch(s).\n"
     ]
    },
    {
     "name": "stderr",
     "output_type": "stream",
     "text": [
      "100%|██████████| 938/938 [02:30<00:00,  6.23it/s]\n"
     ]
    },
    {
     "name": "stdout",
     "output_type": "stream",
     "text": [
      "[Epoch 18] Train Loss: 0.3655\n"
     ]
    },
    {
     "name": "stderr",
     "output_type": "stream",
     "text": [
      "100%|██████████| 157/157 [00:08<00:00, 18.80it/s]\n"
     ]
    },
    {
     "name": "stdout",
     "output_type": "stream",
     "text": [
      "[Epoch 18] Test Accuracy: 32.51%\n",
      "No improvement for 2 epoch(s).\n"
     ]
    },
    {
     "name": "stderr",
     "output_type": "stream",
     "text": [
      "100%|██████████| 938/938 [02:30<00:00,  6.23it/s]\n"
     ]
    },
    {
     "name": "stdout",
     "output_type": "stream",
     "text": [
      "[Epoch 19] Train Loss: 0.7545\n"
     ]
    },
    {
     "name": "stderr",
     "output_type": "stream",
     "text": [
      "100%|██████████| 157/157 [00:08<00:00, 18.77it/s]\n"
     ]
    },
    {
     "name": "stdout",
     "output_type": "stream",
     "text": [
      "[Epoch 19] Test Accuracy: 80.55%\n",
      "No improvement for 3 epoch(s).\n"
     ]
    },
    {
     "name": "stderr",
     "output_type": "stream",
     "text": [
      "100%|██████████| 938/938 [02:30<00:00,  6.23it/s]\n"
     ]
    },
    {
     "name": "stdout",
     "output_type": "stream",
     "text": [
      "[Epoch 20] Train Loss: 0.4686\n"
     ]
    },
    {
     "name": "stderr",
     "output_type": "stream",
     "text": [
      "100%|██████████| 157/157 [00:08<00:00, 18.77it/s]"
     ]
    },
    {
     "name": "stdout",
     "output_type": "stream",
     "text": [
      "[Epoch 20] Test Accuracy: 83.96%\n",
      "No improvement for 4 epoch(s).\n"
     ]
    },
    {
     "name": "stderr",
     "output_type": "stream",
     "text": [
      "\n"
     ]
    }
   ],
   "source": [
    "train()"
   ]
  }
 ],
 "metadata": {
  "kernelspec": {
   "display_name": "mambakernel",
   "language": "python",
   "name": "mambakernel"
  },
  "language_info": {
   "codemirror_mode": {
    "name": "ipython",
    "version": 3
   },
   "file_extension": ".py",
   "mimetype": "text/x-python",
   "name": "python",
   "nbconvert_exporter": "python",
   "pygments_lexer": "ipython3",
   "version": "3.10.18"
  }
 },
 "nbformat": 4,
 "nbformat_minor": 5
}
