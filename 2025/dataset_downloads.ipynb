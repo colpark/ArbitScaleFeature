{
 "cells": [
  {
   "cell_type": "code",
   "execution_count": 1,
   "id": "1d478358-5396-43aa-b147-fcbe502cae69",
   "metadata": {
    "tags": []
   },
   "outputs": [
    {
     "name": "stderr",
     "output_type": "stream",
     "text": [
      "/global/cfs/cdirs/m4727/mamba-env/lib/python3.11/site-packages/tqdm/auto.py:21: TqdmWarning: IProgress not found. Please update jupyter and ipywidgets. See https://ipywidgets.readthedocs.io/en/stable/user_install.html\n",
      "  from .autonotebook import tqdm as notebook_tqdm\n"
     ]
    }
   ],
   "source": [
    "import pandas as pd\n",
    "from PIL import Image\n",
    "import numpy as np\n",
    "import torch\n",
    "from torch.utils.data import DataLoader, Dataset\n",
    "import torchvision.transforms as transforms\n",
    "import torch.nn.functional as F\n",
    "\n",
    "from torch import nn\n",
    "import matplotlib.pyplot as plt\n",
    "from tqdm import tqdm\n",
    "from PIL import Image\n",
    "import os\n",
    "from einops import rearrange, repeat\n",
    "import einops\n",
    "from glob import glob\n",
    "from math import log\n",
    "import math\n",
    "import kagglehub\n",
    "from torchvision.datasets import CIFAR10\n",
    "from torchvision.utils import save_image\n",
    "\n",
    "os.environ['KAGGLEHUB_CACHE'] = '/pscratch/sd/t/tbalasoo' #Change this line to your location"
   ]
  },
  {
   "cell_type": "code",
   "execution_count": 7,
   "id": "9faa4ac8-3ac0-4073-9542-c6a854091272",
   "metadata": {},
   "outputs": [
    {
     "name": "stdout",
     "output_type": "stream",
     "text": [
      "Downloading from https://www.kaggle.com/api/v1/datasets/download/therealcyberlord/50k-celeba-dataset-64x64?dataset_version_number=1...\n"
     ]
    },
    {
     "name": "stderr",
     "output_type": "stream",
     "text": [
      "100%|██████████| 78.1M/78.1M [00:02<00:00, 36.8MB/s]"
     ]
    },
    {
     "name": "stdout",
     "output_type": "stream",
     "text": [
      "Extracting files...\n"
     ]
    },
    {
     "name": "stderr",
     "output_type": "stream",
     "text": [
      "\n"
     ]
    },
    {
     "name": "stdout",
     "output_type": "stream",
     "text": [
      "Path to dataset files: /home/idies/.cache/kagglehub/datasets/therealcyberlord/50k-celeba-dataset-64x64/versions/1\n"
     ]
    }
   ],
   "source": [
    "# Install dependencies as needed:\n",
    "# CelebA 64x64\n",
    "import kagglehub\n",
    "\n",
    "# Download latest version\n",
    "path = kagglehub.dataset_download(\"therealcyberlord/50k-celeba-dataset-64x64\")\n",
    "\n",
    "print(\"Path to dataset files:\", path)\n",
    "\n",
    "#Path to dataset files: /home/idies/.cache/kagglehub/datasets/therealcyberlord/50k-celeba-dataset-64x64/versions/1\n"
   ]
  },
  {
   "cell_type": "code",
   "execution_count": 5,
   "id": "004c0013-0783-416f-9ee8-8fe3174a8f2e",
   "metadata": {
    "tags": []
   },
   "outputs": [
    {
     "name": "stdout",
     "output_type": "stream",
     "text": [
      "Downloading from https://www.kaggle.com/api/v1/datasets/download/jessicali9530/celeba-dataset?dataset_version_number=2...\n"
     ]
    },
    {
     "name": "stderr",
     "output_type": "stream",
     "text": [
      "100%|██████████| 1.33G/1.33G [00:06<00:00, 204MB/s] "
     ]
    },
    {
     "name": "stdout",
     "output_type": "stream",
     "text": [
      "Extracting files...\n"
     ]
    },
    {
     "name": "stderr",
     "output_type": "stream",
     "text": [
      "\n"
     ]
    },
    {
     "name": "stdout",
     "output_type": "stream",
     "text": [
      "Path to dataset files: /pscratch/sd/t/tbalasoo/datasets/jessicali9530/celeba-dataset/versions/2\n"
     ]
    }
   ],
   "source": [
    "#CelebA 178x178\n",
    "import kagglehub\n",
    "path = kagglehub.dataset_download(\"jessicali9530/celeba-dataset\")\n",
    "\n",
    "print(\"Path to dataset files:\", path)\n",
    "#Path to dataset files: /home/idies/.cache/kagglehub/datasets/jessicali9530/celeba-dataset/versions/2/img_align_celeba/img_align_celeba"
   ]
  },
  {
   "cell_type": "code",
   "execution_count": 2,
   "id": "7b49dd1e-9e6f-41ec-9e53-ba7c9ba05142",
   "metadata": {
    "tags": []
   },
   "outputs": [
    {
     "name": "stdout",
     "output_type": "stream",
     "text": [
      "Downloading from https://www.kaggle.com/api/v1/datasets/download/lamsimon/celebahq?dataset_version_number=1...\n"
     ]
    },
    {
     "name": "stderr",
     "output_type": "stream",
     "text": [
      "100%|██████████| 2.55G/2.55G [00:45<00:00, 59.6MB/s]"
     ]
    },
    {
     "name": "stdout",
     "output_type": "stream",
     "text": [
      "Extracting files...\n"
     ]
    },
    {
     "name": "stderr",
     "output_type": "stream",
     "text": [
      "\n"
     ]
    },
    {
     "name": "stdout",
     "output_type": "stream",
     "text": [
      "Path to dataset files: /home/idies/.cache/kagglehub/datasets/lamsimon/celebahq/versions/1\n",
      "Found 30000 unique image files.\n"
     ]
    },
    {
     "name": "stderr",
     "output_type": "stream",
     "text": [
      "100%|██████████| 30000/30000 [00:06<00:00, 4722.93it/s]\n"
     ]
    }
   ],
   "source": [
    "#CelebA HQ 1024x1024\n",
    "import shutil\n",
    "from tqdm import tqdm\n",
    "import os\n",
    "import kagglehub\n",
    "\n",
    "# Download latest version\n",
    "path = kagglehub.dataset_download(\"lamsimon/celebahq\")\n",
    "\n",
    "print(\"Path to dataset files:\", path)\n",
    "\n",
    "source_root = '/home/idies/.cache/kagglehub/datasets/lamsimon/celebahq/versions/1/celeba_hq'  # e.g., 'data/' with subfolders\n",
    "dest_dir = '/home/idies/.cache/kagglehub/datasets/lamsimon/celebahq/versions/1/celeba_hq/data'\n",
    "allowed_exts = {'.jpg', '.jpeg', '.png', '.bmp'}  # accepted image formats\n",
    "\n",
    "if not os.path.exists(dest_dir):\n",
    "    os.makedirs(dest_dir)\n",
    "\n",
    "all_files = []\n",
    "\n",
    "# Walk through all subdirectories of source_root\n",
    "for root, dirs, files in os.walk(source_root):\n",
    "    for fname in files:\n",
    "        ext = os.path.splitext(fname)[-1].lower()\n",
    "        if ext in allowed_exts:\n",
    "            full_path = os.path.join(root, fname)\n",
    "            all_files.append(full_path)\n",
    "\n",
    "# Remove duplicates (in case of symlinks or same name across dirs)\n",
    "all_files = list(set(all_files))\n",
    "\n",
    "print(f\"Found {len(all_files)} unique image files.\")\n",
    "\n",
    "# Copy them to dest_dir\n",
    "for i, src_path in enumerate(tqdm(all_files)):\n",
    "    ext = os.path.splitext(src_path)[-1].lower()\n",
    "    dst_path = os.path.join(dest_dir, f'img_{i:05}{ext}')\n",
    "    shutil.copy2(src_path, dst_path)\n",
    "    \n",
    "#Path to dataset files: /home/idies/.cache/kagglehub/datasets/lamsimon/celebahq/versions/1"
   ]
  },
  {
   "cell_type": "code",
   "execution_count": 2,
   "id": "f8c27a19-74d1-4146-b690-650d1003d670",
   "metadata": {
    "tags": []
   },
   "outputs": [
    {
     "name": "stdout",
     "output_type": "stream",
     "text": [
      "Downloading https://www.cs.toronto.edu/~kriz/cifar-10-python.tar.gz to /pscratch/sd/t/tbalasoo/datasets/cifar-10/cifar-10-python.tar.gz\n"
     ]
    },
    {
     "name": "stderr",
     "output_type": "stream",
     "text": [
      "100%|██████████| 170M/170M [00:04<00:00, 34.2MB/s] \n"
     ]
    },
    {
     "name": "stdout",
     "output_type": "stream",
     "text": [
      "Extracting /pscratch/sd/t/tbalasoo/datasets/cifar-10/cifar-10-python.tar.gz to /pscratch/sd/t/tbalasoo/datasets/cifar-10\n",
      "Files already downloaded and verified\n"
     ]
    },
    {
     "name": "stderr",
     "output_type": "stream",
     "text": [
      "Saving train: 100%|██████████| 50000/50000 [01:07<00:00, 735.99it/s]\n",
      "Saving test: 100%|██████████| 10000/10000 [00:27<00:00, 368.52it/s]\n"
     ]
    }
   ],
   "source": [
    "#CIFAR-10\n",
    "\n",
    "#output_dir = '/home/idies/workspace/Temporary/tbalasoor/scratch/cifar10'\n",
    "#output_dir = '/home/idies/.cache/cifar-10'\n",
    "output_dir = '/pscratch/sd/t/tbalasoo/datasets/cifar-10'\n",
    "os.makedirs(output_dir, exist_ok=True)\n",
    "\n",
    "# Transformation\n",
    "to_tensor = transforms.ToTensor()\n",
    "\n",
    "# Download CIFAR-10\n",
    "train_set = CIFAR10(root=output_dir, train=True, download=True)\n",
    "test_set = CIFAR10(root=output_dir, train=False, download=True)\n",
    "\n",
    "# Save all images from train (0 to 49999)\n",
    "for i, (img, _) in tqdm(enumerate(train_set), total=len(train_set), desc=\"Saving train\"):\n",
    "    save_image(to_tensor(img), os.path.join(output_dir, f\"{i:06d}.jpg\"))\n",
    "\n",
    "# Save all images from test (50000 to 59999)\n",
    "for i, (img, _) in tqdm(enumerate(test_set), total=len(test_set), desc=\"Saving test\"):\n",
    "    idx = i + len(train_set)\n",
    "    save_image(to_tensor(img), os.path.join(output_dir, f\"{idx:06d}.jpg\"))"
   ]
  },
  {
   "cell_type": "code",
   "execution_count": 2,
   "id": "666175be-a774-4bd8-9386-fe6489879f27",
   "metadata": {},
   "outputs": [
    {
     "name": "stdout",
     "output_type": "stream",
     "text": [
      "Downloading from https://www.kaggle.com/api/v1/datasets/download/arnaud58/flickrfaceshq-dataset-ffhq?dataset_version_number=1...\n"
     ]
    },
    {
     "name": "stderr",
     "output_type": "stream",
     "text": [
      "100%|██████████| 19.5G/19.5G [05:13<00:00, 66.6MB/s]  "
     ]
    },
    {
     "name": "stdout",
     "output_type": "stream",
     "text": [
      "Extracting files...\n"
     ]
    },
    {
     "name": "stderr",
     "output_type": "stream",
     "text": [
      "\n"
     ]
    },
    {
     "name": "stdout",
     "output_type": "stream",
     "text": [
      "Path to dataset files: /home/idies/.cache/kagglehub/datasets/arnaud58/flickrfaceshq-dataset-ffhq/versions/1\n"
     ]
    }
   ],
   "source": [
    "import kagglehub\n",
    "\n",
    "# Download latest version\n",
    "path = kagglehub.dataset_download(\"arnaud58/flickrfaceshq-dataset-ffhq\")\n",
    "\n",
    "print(\"Path to dataset files:\", path)\n",
    "# /home/idies/.cache/kagglehub/datasets/arnaud58/flickrfaceshq-dataset-ffhq/versions/1"
   ]
  },
  {
   "cell_type": "code",
   "execution_count": 7,
   "id": "14ff6efc-b78b-42a4-8653-105aab9762ef",
   "metadata": {},
   "outputs": [
    {
     "name": "stderr",
     "output_type": "stream",
     "text": [
      " 45%|████▌     | 23495/52001 [49:28<1:01:12,  7.76it/s]IOPub message rate exceeded.\n",
      "The Jupyter server will temporarily stop sending output\n",
      "to the client in order to avoid crashing it.\n",
      "To change this limit, set the config variable\n",
      "`--ServerApp.iopub_msg_rate_limit`.\n",
      "\n",
      "Current values:\n",
      "ServerApp.iopub_msg_rate_limit=1000.0 (msgs/sec)\n",
      "ServerApp.rate_limit_window=3.0 (secs)\n",
      "\n",
      "100%|██████████| 52001/52001 [1:51:08<00:00,  7.80it/s]  "
     ]
    },
    {
     "name": "stdout",
     "output_type": "stream",
     "text": [
      "Moved and renamed 52001 PNG files to /home/idies/workspace/Temporary/tbalasoor/scratch/ffhq.\n"
     ]
    },
    {
     "name": "stderr",
     "output_type": "stream",
     "text": [
      "\n"
     ]
    }
   ],
   "source": [
    "from pathlib import Path\n",
    "from tqdm import tqdm\n",
    "import shutil\n",
    "\n",
    "# Set your source and destination directories\n",
    "image_dir = Path(\"/home/idies/.cache/kagglehub/datasets/arnaud58/flickrfaceshq-dataset-ffhq/versions/1\")\n",
    "new_image_dir = Path(\"/home/idies/workspace/Temporary/tbalasoor/scratch/ffhq\")\n",
    "\n",
    "# Ensure the destination directory exists\n",
    "new_image_dir.mkdir(parents=True, exist_ok=True)\n",
    "\n",
    "# Get all .png files\n",
    "png_files = sorted(image_dir.glob(\"*.png\"))\n",
    "\n",
    "# Move and rename\n",
    "for idx, file in enumerate(tqdm(png_files)):\n",
    "    new_name = new_image_dir / f\"{idx:06d}.png\"\n",
    "    shutil.move(str(file), str(new_name))\n",
    "\n",
    "print(f\"Moved and renamed {len(png_files)} PNG files to {new_image_dir}.\")\n",
    "\n",
    "\n"
   ]
  }
 ],
 "metadata": {
  "kernelspec": {
   "display_name": "“mambaenv”",
   "language": "python",
   "name": "mambaenv"
  },
  "language_info": {
   "codemirror_mode": {
    "name": "ipython",
    "version": 3
   },
   "file_extension": ".py",
   "mimetype": "text/x-python",
   "name": "python",
   "nbconvert_exporter": "python",
   "pygments_lexer": "ipython3",
   "version": "3.11.13"
  }
 },
 "nbformat": 4,
 "nbformat_minor": 5
}
